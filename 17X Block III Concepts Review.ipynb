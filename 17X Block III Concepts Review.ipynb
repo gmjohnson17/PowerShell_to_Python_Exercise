{
 "cells": [
  {
   "cell_type": "markdown",
   "id": "51a65e53",
   "metadata": {},
   "source": [
    "# Review Exercises"
   ]
  },
  {
   "cell_type": "markdown",
   "id": "866a53a9",
   "metadata": {},
   "source": [
    "The purpose of this review is to translate foundational programming concepts for 17S students, as taught in 17X Block III - PowerShell. This notebook provides an overview on Python, Python variables, Python operators, flow control/loops, and basic functions. "
   ]
  },
  {
   "cell_type": "markdown",
   "id": "3ddd0215",
   "metadata": {},
   "source": [
    "If you have never used a Jupyter notebook before, you may want to review this docs: https://docs.jupyter.org/en/latest/\n",
    "\n",
    "You can also review this quick-start guide: https://www.dataquest.io/blog/jupyter-notebook-tutorial/"
   ]
  },
  {
   "cell_type": "markdown",
   "id": "23026367",
   "metadata": {},
   "source": [
    "### Python Resources"
   ]
  },
  {
   "cell_type": "markdown",
   "id": "2ad14cd1",
   "metadata": {},
   "source": [
    "Python Docs (tutorial): https://docs.python.org/3/tutorial/index.html\n",
    "\n",
    "Top Free Python Resources: https://www.freecodecamp.org/news/the-best-way-to-learn-python-python-programming-tutorial-for-beginners/#:~:text=Best%20Python%20Tutorials%20for%20Beginners%201%20Learn%20Python,8%20Python%20Basics%20with%20Sam%20%28freeCodeCamp%29%20More%20items\n",
    "\n",
    "AFRL recommends U Mich's \"Programming for Everyone\" course (#4 in the link above). "
   ]
  },
  {
   "cell_type": "markdown",
   "id": "c8ae1249",
   "metadata": {},
   "source": [
    "### Import dependencies / libraries"
   ]
  },
  {
   "cell_type": "code",
   "execution_count": 10,
   "id": "153d2348",
   "metadata": {},
   "outputs": [],
   "source": [
    "# Don't forget to run\n",
    "import pandas as pd\n",
    "import numpy as np\n",
    "import os\n",
    "import sys\n",
    "import math\n",
    "import random\n",
    "import timeit"
   ]
  },
  {
   "cell_type": "code",
   "execution_count": 11,
   "id": "194b24c2",
   "metadata": {},
   "outputs": [
    {
     "name": "stdout",
     "output_type": "stream",
     "text": [
      "Python Version:  3.9.13 (main, Aug 25 2022, 23:51:50) [MSC v.1916 64 bit (AMD64)]\n"
     ]
    }
   ],
   "source": [
    "# check version\n",
    "print(\"Python Version: \", sys.version)"
   ]
  },
  {
   "cell_type": "markdown",
   "id": "b29c6542",
   "metadata": {},
   "source": [
    "### Comments in Python"
   ]
  },
  {
   "cell_type": "code",
   "execution_count": 6,
   "id": "57a296f9",
   "metadata": {},
   "outputs": [],
   "source": [
    "# Python uses the hash sign (#) for single line comments\n",
    "\n",
    "\"\"\"\n",
    "Python uses three quotes for multi-line comments\n",
    "\"\"\"\n",
    "pass # used as dummy input/output for a funtion"
   ]
  },
  {
   "cell_type": "markdown",
   "id": "d2de273c",
   "metadata": {},
   "source": [
    "### Variables in Python"
   ]
  },
  {
   "cell_type": "markdown",
   "id": "29e5482a",
   "metadata": {},
   "source": [
    "A variable is used to store information for reference. For example: 'a = 1'\n",
    "\n",
    "Python does not use explicit type casting for variables. A single variable can be assigned integer (int), string, boolean (bool), or other properties without explicit type casting."
   ]
  },
  {
   "cell_type": "code",
   "execution_count": 11,
   "id": "91d2f24c",
   "metadata": {},
   "outputs": [
    {
     "name": "stdout",
     "output_type": "stream",
     "text": [
      "1 \n",
      "\n",
      "True\n"
     ]
    }
   ],
   "source": [
    "# example variable creation and assignment\n",
    "a = 1\n",
    "print(a, \"\\n\")\n",
    "\n",
    "a = True\n",
    "print(a)"
   ]
  },
  {
   "cell_type": "markdown",
   "id": "3da60c16",
   "metadata": {},
   "source": [
    "In Python, variable names are typically all lowercase and use an underscore for multi-word variable names.\n",
    "\n",
    "Variable names are case sensitive in Python (so Eagle != eagle) and cannot use restricted words (print, string, int, etc.)."
   ]
  },
  {
   "cell_type": "code",
   "execution_count": 7,
   "id": "b040fea8",
   "metadata": {},
   "outputs": [
    {
     "name": "stdout",
     "output_type": "stream",
     "text": [
      "False\n"
     ]
    }
   ],
   "source": [
    "unicorn_height = 72\n",
    "Unicorn_height = 58\n",
    "print(unicorn_height == Unicorn_height)"
   ]
  },
  {
   "cell_type": "markdown",
   "id": "5b39e72e",
   "metadata": {},
   "source": [
    "#### Variable Types"
   ]
  },
  {
   "cell_type": "markdown",
   "id": "5fd86631",
   "metadata": {},
   "source": [
    "Python uses the following variable types\n",
    "- Boolean (True or False)\n",
    "- Integers (numbers)\n",
    "- Floats (decimal numbers)\n",
    "- String (words)\n",
    "- Lists (similar to arrays)\n",
    "- Tuples (immutable lists)\n",
    "- Sets (unordered lists with no repeat values)\n",
    "- Dictionaries"
   ]
  },
  {
   "cell_type": "code",
   "execution_count": 5,
   "id": "4a629172",
   "metadata": {},
   "outputs": [
    {
     "name": "stdout",
     "output_type": "stream",
     "text": [
      "<class 'bool'>\n",
      "\n",
      "True == False:  False \n",
      "\n",
      "<class 'bool'> \n",
      "\n",
      "1 < 2 :  True\n"
     ]
    }
   ],
   "source": [
    "# Booleans are used for comparison (True/False) and are output from logical comparisons\n",
    "print(str(type(True == False)) + '\\n')\n",
    "\n",
    "print(\"True == False: \", True == False, \"\\n\")\n",
    "\n",
    "print(type(1 < 2), \"\\n\") # \n",
    "\n",
    "print(\"1 < 2 : \", 1 < 2)"
   ]
  },
  {
   "cell_type": "code",
   "execution_count": 8,
   "id": "7836bcae",
   "metadata": {
    "scrolled": true
   },
   "outputs": [
    {
     "name": "stdout",
     "output_type": "stream",
     "text": [
      "<class 'int'> \n",
      "\n",
      "<class 'float'>\n"
     ]
    }
   ],
   "source": [
    "# Numbers in python are assigned as either integer or float based on the use of a decimal point\n",
    "a, b = 1, 1.0\n",
    "\n",
    "print(type(a), \"\\n\")\n",
    "\n",
    "print(type(b))"
   ]
  },
  {
   "cell_type": "code",
   "execution_count": 9,
   "id": "23f61ea9",
   "metadata": {},
   "outputs": [
    {
     "name": "stdout",
     "output_type": "stream",
     "text": [
      "<class 'float'> \n",
      "\n",
      "2.0\n"
     ]
    }
   ],
   "source": [
    "# When an integer is combined with a float, the output type is float\n",
    "a, b = 1, 1.0\n",
    "c = a + b\n",
    "\n",
    "print(type(c), \"\\n\")\n",
    "\n",
    "print(c)"
   ]
  },
  {
   "cell_type": "code",
   "execution_count": 13,
   "id": "98a70010",
   "metadata": {},
   "outputs": [
    {
     "name": "stdout",
     "output_type": "stream",
     "text": [
      "2 \n",
      "\n",
      "1.4142135623730951\n"
     ]
    }
   ],
   "source": [
    "# Certain functions will output either an int or float, depending on the function's output type\n",
    "c = 2.0\n",
    "\n",
    "print(math.floor(c), \"\\n\")\n",
    "\n",
    "print(math.sqrt(c))"
   ]
  },
  {
   "cell_type": "markdown",
   "id": "3f40a6d2",
   "metadata": {},
   "source": [
    "To read more about math, see the Python docs: https://docs.python.org/3/library/math.html"
   ]
  },
  {
   "cell_type": "code",
   "execution_count": 14,
   "id": "26d924d3",
   "metadata": {},
   "outputs": [
    {
     "name": "stdout",
     "output_type": "stream",
     "text": [
      "I love Python!\n"
     ]
    }
   ],
   "source": [
    "# Strings can be thought of as words. In Python, strings can also be manipulated as lists of characters\n",
    "s = \"I love Python!\"\n",
    "print(s)"
   ]
  },
  {
   "cell_type": "code",
   "execution_count": 15,
   "id": "03fa98a0",
   "metadata": {},
   "outputs": [
    {
     "name": "stdout",
     "output_type": "stream",
     "text": [
      "I\n",
      "!\n",
      "Python\n"
     ]
    }
   ],
   "source": [
    "# Strings can be accessed as lists. In python, -1 is the last character, 0 is the first character, \n",
    "# and substrings (slices) can be selected via [x:n-1], where x is the start index and n is the end index\n",
    "print(s[0])\n",
    "print(s[-1])\n",
    "print(s[7:13])"
   ]
  },
  {
   "cell_type": "markdown",
   "id": "140ee651",
   "metadata": {},
   "source": [
    "Strings have several methods, such as split(), capitalize(), find(), and format() that are useful for string searching, manipulation, and error checking. These methods can be researched further here: https://docs.python.org/3/library/stdtypes.html#string-methods"
   ]
  },
  {
   "cell_type": "code",
   "execution_count": 17,
   "id": "cd91562b",
   "metadata": {},
   "outputs": [
    {
     "name": "stdout",
     "output_type": "stream",
     "text": [
      "['How much ', ' would a ', 'chuck chuck if a ', 'chuck could chuck ', '? a chord!'] \n",
      "\n",
      "How much wood would a woodchuck chuck if a woodchuck could chuck wood? a chord! \n",
      "\n",
      "9 \n",
      "\n",
      "The output of 1 + 2 is 3 \n",
      "\n",
      "True\n"
     ]
    }
   ],
   "source": [
    "# Example string methods\n",
    "s = \"How much wood would a woodchuck chuck if a woodchuck could chuck wood? a chord!\"\n",
    "\n",
    "print(s.split(\"wood\"), \"\\n\") # splits the string on the sub-string \"wood\"\n",
    "\n",
    "print(s.capitalize(), \"\\n\") # capitalizes the first letter of a string\n",
    "\n",
    "print(s.find(\"wood\"), \"\\n\") # in this case, returns the index of the first use of \"wood\"\n",
    "\n",
    "print(\"The output of 1 + 2 is {0}\".format(1 + 2), \"\\n\")\n",
    "\n",
    "# one unique feature is that you can search to see if a substring exists using 'in', since strings are manipulated like lists\n",
    "print(\"wood\" in s)"
   ]
  },
  {
   "cell_type": "markdown",
   "id": "203dd83e",
   "metadata": {},
   "source": [
    "Tuples are a special type of \"immutable\" list, meaining that they have static value assignments. Tuples are typically used for function return calls when you need to pass multiple variables. "
   ]
  },
  {
   "cell_type": "code",
   "execution_count": 4,
   "id": "26b654f9",
   "metadata": {},
   "outputs": [
    {
     "name": "stdout",
     "output_type": "stream",
     "text": [
      "t:  ('val1', 'val2', 'val3') \n",
      "\n",
      "vals:  val1 val2 val3 val3 \n",
      "\n"
     ]
    },
    {
     "ename": "TypeError",
     "evalue": "'tuple' object does not support item assignment",
     "output_type": "error",
     "traceback": [
      "\u001b[1;31m---------------------------------------------------------------------------\u001b[0m",
      "\u001b[1;31mTypeError\u001b[0m                                 Traceback (most recent call last)",
      "\u001b[1;32m~\\AppData\\Local\\Temp\\ipykernel_9784\\1513112862.py\u001b[0m in \u001b[0;36m<module>\u001b[1;34m\u001b[0m\n\u001b[0;32m     13\u001b[0m \u001b[1;33m\u001b[0m\u001b[0m\n\u001b[0;32m     14\u001b[0m \u001b[1;31m# tuple values\u001b[0m\u001b[1;33m\u001b[0m\u001b[1;33m\u001b[0m\u001b[0m\n\u001b[1;32m---> 15\u001b[1;33m \u001b[0mt\u001b[0m\u001b[1;33m[\u001b[0m\u001b[1;36m0\u001b[0m\u001b[1;33m]\u001b[0m \u001b[1;33m=\u001b[0m \u001b[1;36m0\u001b[0m\u001b[1;33m\u001b[0m\u001b[1;33m\u001b[0m\u001b[0m\n\u001b[0m",
      "\u001b[1;31mTypeError\u001b[0m: 'tuple' object does not support item assignment"
     ]
    }
   ],
   "source": [
    "# tuples are deliniated by parenthesis ()\n",
    "t = (\"val1\", \"val2\", \"val3\")\n",
    "\n",
    "# multiple values can be defined by calling a tuple directly\n",
    "val1, val2, val3 = t\n",
    "\n",
    "# or a specific position in the tuple can be called\n",
    "val4 = t[2]\n",
    "\n",
    "print(\"t: \", t, '\\n')\n",
    "\n",
    "print(\"vals: \", val1, val2, val3, val4, '\\n')\n",
    "\n",
    "# as tuples are immutable, trying \n",
    "t[0] = 0"
   ]
  },
  {
   "cell_type": "markdown",
   "id": "070036c7",
   "metadata": {},
   "source": [
    "Sets are unordered lists with no repeat values. They are created using the curly bracket or {} (note: an empty set has to be created using the set function since dictionaries also use {}).\n",
    "\n",
    "Sets can be useful for mathematical operations or to find all unique values in a list. Once established, sets can be sorted (alphabetical or numeric order).\n",
    "\n",
    "Sets also make use of mathematical set operations, including:\n",
    "- Difference - (example A - B for items in A not in B)\n",
    "- Union | (example A | B for items in A, B, or both)\n",
    "- Intersect & (example A & B for items in both A and B)\n",
    "- Not-intersect ^ (example A ^ B for items in either A or B)"
   ]
  },
  {
   "cell_type": "code",
   "execution_count": 7,
   "id": "c5888e5e",
   "metadata": {},
   "outputs": [
    {
     "name": "stdout",
     "output_type": "stream",
     "text": [
      "{'bananas', 'oranges', 'apples'} \n",
      "\n",
      "True \n",
      "\n",
      "['apples', 'bananas', 'oranges']\n"
     ]
    }
   ],
   "source": [
    "basket = {\"apples\", \"oranges\", \"bananas\", \"apples\"}\n",
    "\n",
    "print(basket, '\\n')\n",
    "\n",
    "# you can check if something is in a set using \"in\"\n",
    "print(\"oranges\" in basket, '\\n')\n",
    "\n",
    "# sets can be sorted, which turns a set into a sorted list\n",
    "print(sorted(basket))"
   ]
  },
  {
   "cell_type": "code",
   "execution_count": null,
   "id": "261e2004",
   "metadata": {},
   "outputs": [],
   "source": [
    "# Like in PowerShell arrays, lists are not typed. They can be created and manipulated in several ways. Some examples:\n",
    "l = [1, 2, 3]\n",
    "\n",
    "print(\"l is {}\".format(l))\n",
    "\n",
    "print(\"l[0] is {}\".format(l[0]))\n",
    "\n",
    "l.append(4)\n",
    "print(\"After appending 4, l[-1] is {}\".format(l[-1]))\n",
    "\n",
    "l = l + [5]\n",
    "print(\"After appending 5, l[-1] is {}\".format(l[-1]))\n",
    "\n",
    "l = list(range(0, 10, 2)) # list creation using the list() function\n",
    "print(\"l is {}\".format(l))\n",
    "\n",
    "l = [x for x in range(7)]\n",
    "print(\"l is {}\".format(l))"
   ]
  },
  {
   "cell_type": "code",
   "execution_count": 19,
   "id": "9e644748",
   "metadata": {},
   "outputs": [
    {
     "name": "stdout",
     "output_type": "stream",
     "text": [
      "{'Graham': ['Lacrosse, Swimming, Ultimate Frisbee'], 'Jeffrey': ['Parties', 'Scuba Diving', 'Long walks on the beach'], 'Tyler': ['Paper Mache', 'High-risk Fingerpainting', 'Laughing']}\n",
      "['Lacrosse, Swimming, Ultimate Frisbee']\n",
      "{0: 0, 1: 1, 2: 4, 3: 9, 4: 16, 5: 25, 6: 36, 7: 49, 8: 64, 9: 81, 10: 100}\n"
     ]
    }
   ],
   "source": [
    "# dictionaries are the equivalent of a PowerShell hashtable. A key is given and can be used to access a single value or\n",
    "# a list of values\n",
    "my_dict = {\"Graham\": [\"Lacrosse, Swimming, Ultimate Frisbee\"], \n",
    "           \"Jeffrey\" : [\"Parties\", \"Scuba Diving\", \"Long walks on the beach\"],\n",
    "           \"Tyler\" : [\"Paper Mache\", \"High-risk Fingerpainting\", \"Laughing\"]}\n",
    "print(my_dict)\n",
    "\n",
    "# individual entries can be accessed using the key\n",
    "print(my_dict[\"Graham\"])\n",
    "\n",
    "# like lists, dictionaries can be created through dictionary comprehensions\n",
    "pows = {x : x ** 2 for x in range(11)} #see next section for use of **\n",
    "print(pows)"
   ]
  },
  {
   "cell_type": "markdown",
   "id": "97e066d4",
   "metadata": {},
   "source": [
    "### Operators"
   ]
  },
  {
   "cell_type": "markdown",
   "id": "db37571f",
   "metadata": {},
   "source": [
    "Operators allows the user to manipulate data and interact with the user and/or computer.\n",
    "\n",
    "Numeric operators inlude:\n",
    "- Add (+)\n",
    "- Subtract (-)\n",
    "- Multiply (*)\n",
    "- Divide (/)\n",
    "- Decimal Divide (//)\n",
    "- Modulus (%)\n",
    "- Power (**) "
   ]
  },
  {
   "cell_type": "code",
   "execution_count": 71,
   "id": "08f5127e",
   "metadata": {},
   "outputs": [
    {
     "name": "stdout",
     "output_type": "stream",
     "text": [
      "7 / 2 = 3.5\n",
      "7 // 2 = 3\n",
      "7 % 2 = 1\n"
     ]
    }
   ],
   "source": [
    "# Divide vs. Decimal Divide\n",
    "print(\"7 / 2 = {}\".format(7/2))\n",
    "print(\"7 // 2 = {}\".format(7//2))\n",
    "\n",
    "# Modulus Arithmetic\n",
    "print(\"7 % 2 = {}\".format(7%2))"
   ]
  },
  {
   "cell_type": "code",
   "execution_count": 73,
   "id": "473c04ce",
   "metadata": {},
   "outputs": [
    {
     "name": "stdout",
     "output_type": "stream",
     "text": [
      "-1\n",
      "1\n",
      "2\n"
     ]
    }
   ],
   "source": [
    "# Like in PowerShell and other languages, short hand operators also work in Python, such as -=. +=. *=. etc.\n",
    "a = 1\n",
    "b = 2\n",
    "\n",
    "a -= b\n",
    "print(a)\n",
    "\n",
    "a += b\n",
    "print(a)\n",
    "\n",
    "a *= b\n",
    "print(a)"
   ]
  },
  {
   "cell_type": "markdown",
   "id": "a5dd1df9",
   "metadata": {},
   "source": [
    "Numeric comparison operators output boolean values. Comparison operators in Python include:\n",
    "- is (equivalent) \n",
    "- == (equals)\n",
    "- != (not equal)\n",
    "- \\> / >= (greater than, greater than or equal to)\n",
    "- < / <= (less than, less than or equal to)"
   ]
  },
  {
   "cell_type": "markdown",
   "id": "12ec1729",
   "metadata": {},
   "source": [
    "Logical operators are used for booleans. Logical operators include:\n",
    "- and\n",
    "- or\n",
    "- not\n",
    "- xor (exclusive or)"
   ]
  },
  {
   "cell_type": "code",
   "execution_count": 74,
   "id": "16f75b80",
   "metadata": {},
   "outputs": [
    {
     "name": "stdout",
     "output_type": "stream",
     "text": [
      "False\n",
      "True\n"
     ]
    }
   ],
   "source": [
    "x = True\n",
    "y = False\n",
    "print(x and y)\n",
    "print(not (x and y))"
   ]
  },
  {
   "cell_type": "markdown",
   "id": "dd569159",
   "metadata": {},
   "source": [
    "### User Input "
   ]
  },
  {
   "cell_type": "code",
   "execution_count": 21,
   "id": "7465ae61",
   "metadata": {},
   "outputs": [
    {
     "name": "stdout",
     "output_type": "stream",
     "text": [
      "Please input a your name: Jeffo\n",
      "Your name is:  Jeffo\n"
     ]
    }
   ],
   "source": [
    "# User input without error checking\n",
    "x = input(\"Please input a your name: \")\n",
    "print(\"Your name is: \", x)"
   ]
  },
  {
   "cell_type": "code",
   "execution_count": 78,
   "id": "3e7fb1e3",
   "metadata": {},
   "outputs": [
    {
     "name": "stdout",
     "output_type": "stream",
     "text": [
      "Please input a number between 1-10: 4\n",
      "Good job!\n"
     ]
    }
   ],
   "source": [
    "# User input with error checking\n",
    "try:\n",
    "    x = int(input(\"Please input a number between 1-10: \"))\n",
    "    if(x >= 1 and x <= 10):\n",
    "        print(\"Good job!\")\n",
    "    else:\n",
    "        print(\"That number was not between 1 and 10 :(\")\n",
    "except ValueError:\n",
    "    print(\"That was not a number\")"
   ]
  },
  {
   "cell_type": "markdown",
   "id": "e2b617bc",
   "metadata": {},
   "source": [
    "#### User Input Exercises"
   ]
  },
  {
   "cell_type": "code",
   "execution_count": null,
   "id": "6b3d976d",
   "metadata": {},
   "outputs": [],
   "source": [
    "# Write a Python script that takes a user's input number of seconds and converts \n",
    "# it to hours"
   ]
  },
  {
   "cell_type": "code",
   "execution_count": null,
   "id": "3e996ab3",
   "metadata": {},
   "outputs": [],
   "source": [
    "# Write a Python script that takes a user's input number and converts it to \n",
    "# a hexidecimal number"
   ]
  },
  {
   "cell_type": "code",
   "execution_count": null,
   "id": "b29eb750",
   "metadata": {},
   "outputs": [],
   "source": [
    "# Write a Python script that takes a user's input string and converts it to \n",
    "# ASCII or Unicode"
   ]
  },
  {
   "cell_type": "code",
   "execution_count": null,
   "id": "9fab9818",
   "metadata": {},
   "outputs": [],
   "source": [
    "# Write a Python script that takes a user's input on a number of grades to \n",
    "# assess, take each grade, and then output summary statistiscs (highest, lowest\n",
    "# average, etc.)"
   ]
  },
  {
   "cell_type": "code",
   "execution_count": null,
   "id": "542f5e22",
   "metadata": {},
   "outputs": [],
   "source": [
    "# Write a Python script that takes a user's height and weight and output's \n",
    "# their BMI"
   ]
  },
  {
   "cell_type": "markdown",
   "id": "a508576e",
   "metadata": {},
   "source": [
    "### Flow Control"
   ]
  },
  {
   "cell_type": "markdown",
   "id": "a633c6bf",
   "metadata": {},
   "source": [
    "Python uses the following Flow Control techniques: \n",
    "- if-else statements\n",
    "- for loops\n",
    "- while loops\n",
    "- for each (for x in n)\n",
    "- match statements (equivalent to PowerShell switch statements)\n",
    "\n",
    "NOTE: Where powershell uses {} to denote the body of a flow control python uses indentations via tab. Anything that is indented will be part of the corisponding flow control\n",
    "\n",
    "Further reading: https://docs.python.org/3/tutorial/controlflow.html"
   ]
  },
  {
   "cell_type": "code",
   "execution_count": 79,
   "id": "dc88b41a",
   "metadata": {},
   "outputs": [
    {
     "name": "stdout",
     "output_type": "stream",
     "text": [
      "x is odd\n"
     ]
    }
   ],
   "source": [
    "# for more than three cases, middle cases use elif\n",
    "x = 1\n",
    "\n",
    "if x % 2 == 0:\n",
    "    print(\"x is even\")\n",
    "# elif: <another comparison>\n",
    "else:\n",
    "    print(\"x is odd\")"
   ]
  },
  {
   "cell_type": "code",
   "execution_count": 22,
   "id": "51817bbf",
   "metadata": {},
   "outputs": [
    {
     "name": "stdout",
     "output_type": "stream",
     "text": [
      "x is in the hundreds\n"
     ]
    }
   ],
   "source": [
    "# for more than three cases, middle cases use elif (python equivalent of switch statements)\n",
    "x = 100\n",
    "if x >= 1000:\n",
    "    print(\"x is in the thousands\")\n",
    "elif x >= 100:\n",
    "    print(\"x is in the hundreds\")\n",
    "else:\n",
    "    print(\"x is small\")"
   ]
  },
  {
   "cell_type": "code",
   "execution_count": 23,
   "id": "ede67f39",
   "metadata": {},
   "outputs": [
    {
     "name": "stdout",
     "output_type": "stream",
     "text": [
      "1\n",
      "2\n",
      "3\n"
     ]
    }
   ],
   "source": [
    "# the for loop can be used to iterate of objects in a list\n",
    "l = [1, 2, 3]\n",
    "for x in l:\n",
    "    print(x)"
   ]
  },
  {
   "cell_type": "code",
   "execution_count": 24,
   "id": "28568885",
   "metadata": {},
   "outputs": [
    {
     "name": "stdout",
     "output_type": "stream",
     "text": [
      "0\n",
      "1\n",
      "2\n",
      "3\n",
      "4\n"
     ]
    }
   ],
   "source": [
    "# for loops can also be used with the range() operator\n",
    "for x in range(5):\n",
    "    print(x)"
   ]
  },
  {
   "cell_type": "code",
   "execution_count": 25,
   "id": "11fc7ecd",
   "metadata": {},
   "outputs": [
    {
     "name": "stdout",
     "output_type": "stream",
     "text": [
      "s\n",
      "t\n",
      "r\n",
      "i\n",
      "n\n",
      "g\n"
     ]
    }
   ],
   "source": [
    "# strings are, by default, treated like character lists\n",
    "s = \"string\"\n",
    "for c in s:\n",
    "    print(c)"
   ]
  },
  {
   "cell_type": "code",
   "execution_count": 26,
   "id": "cd8f7d36",
   "metadata": {},
   "outputs": [
    {
     "name": "stdout",
     "output_type": "stream",
     "text": [
      "Poptart : $0.75\n",
      "Popcorn : $0.25\n",
      "Breakfast Burrito : $1.5\n",
      "\n",
      "('Poptart', 0.75)\n",
      "('Popcorn', 0.25)\n",
      "('Breakfast Burrito', 1.5)\n",
      "\n",
      "0.75\n",
      "0.25\n",
      "1.5\n"
     ]
    }
   ],
   "source": [
    "# dictionaries can also be accessed via for loops\n",
    "prices = {\"Poptart\" : 0.75, \"Popcorn\" : 0.25, \"Breakfast Burrito\" : 1.50}\n",
    "\n",
    "# by default, the for loop will only grab the key values\n",
    "for p in prices:\n",
    "    print(\"{} : ${}\".format(p, prices[p]))\n",
    "    \n",
    "print()\n",
    "\n",
    "# access key : value pairs from a dictionary\n",
    "for p in prices.items():\n",
    "    print(p)\n",
    "\n",
    "print()\n",
    "\n",
    "# access values from a dictionary\n",
    "for p in prices.values():\n",
    "    print(p)"
   ]
  },
  {
   "cell_type": "code",
   "execution_count": 27,
   "id": "962b79bb",
   "metadata": {},
   "outputs": [
    {
     "name": "stdout",
     "output_type": "stream",
     "text": [
      "1 * 4 = 4\n",
      "1 * 5 = 5\n",
      "1 * 6 = 6\n",
      "2 * 4 = 8\n",
      "2 * 5 = 10\n",
      "2 * 6 = 12\n",
      "3 * 4 = 12\n",
      "3 * 5 = 15\n",
      "3 * 6 = 18\n"
     ]
    }
   ],
   "source": [
    "# for loops can also be nested\n",
    "a = [1, 2, 3]\n",
    "b = [4, 5, 6]\n",
    "for i in a:\n",
    "    for j in b:\n",
    "        print(\"{} * {} = {}\".format(i, j, i*j))"
   ]
  },
  {
   "cell_type": "code",
   "execution_count": 28,
   "id": "c26bab07",
   "metadata": {},
   "outputs": [
    {
     "name": "stdout",
     "output_type": "stream",
     "text": [
      "a = 3\n",
      "a = 6\n",
      "a = 8\n",
      "a = 5\n",
      "a = 1\n",
      "a = 5\n",
      "a = 3\n",
      "a = 1\n",
      "a = 9\n",
      "a = 7\n"
     ]
    }
   ],
   "source": [
    "# while can also be used when an unknown number of operations will occur or a condition needs to be met\n",
    "a = -1\n",
    "while a != 7:\n",
    "    a = random.randint(1,10)\n",
    "    print(\"a = {}\".format(a))"
   ]
  },
  {
   "cell_type": "code",
   "execution_count": 29,
   "id": "4d4b3e72",
   "metadata": {},
   "outputs": [
    {
     "name": "stdout",
     "output_type": "stream",
     "text": [
      "Please input a number between 1-10: 0\n",
      "Please input a number between 1-10: 2\n",
      "Good job!\n"
     ]
    }
   ],
   "source": [
    "# while loops can also be used for input validation\n",
    "x = -1\n",
    "try:\n",
    "    while(x <= 0 or x > 10):\n",
    "        x = int(input(\"Please input a number between 1-10: \"))\n",
    "        if(x >= 1 and x <= 10):\n",
    "            print(\"Good job!\")\n",
    "except ValueError:\n",
    "    print(\"That was not a number\")"
   ]
  },
  {
   "cell_type": "code",
   "execution_count": 106,
   "id": "d5737d46",
   "metadata": {
    "scrolled": true
   },
   "outputs": [
    {
     "name": "stdout",
     "output_type": "stream",
     "text": [
      "x: 1\n",
      "x: 2\n",
      "x: 3\n",
      "x: 4\n",
      "x: 5\n",
      "x: 6\n",
      "x: 7\n",
      "x: 8\n",
      "x: 9\n"
     ]
    }
   ],
   "source": [
    "# do while loops can be simulated by using break statements\n",
    "x = 0\n",
    "while True:\n",
    "    x += 1\n",
    "    if x >= 10:\n",
    "        break\n",
    "    else:\n",
    "        print(\"x: {}\".format(x))"
   ]
  },
  {
   "cell_type": "code",
   "execution_count": 9,
   "id": "0dd4d2ce",
   "metadata": {},
   "outputs": [
    {
     "ename": "SyntaxError",
     "evalue": "invalid syntax (2899276198.py, line 4)",
     "output_type": "error",
     "traceback": [
      "\u001b[1;36m  File \u001b[1;32m\"C:\\Users\\graha\\AppData\\Local\\Temp\\ipykernel_9784\\2899276198.py\"\u001b[1;36m, line \u001b[1;32m4\u001b[0m\n\u001b[1;33m    match status:\u001b[0m\n\u001b[1;37m          ^\u001b[0m\n\u001b[1;31mSyntaxError\u001b[0m\u001b[1;31m:\u001b[0m invalid syntax\n"
     ]
    }
   ],
   "source": [
    "# match statements; note: match/case were implemented in Python 3.10\n",
    "# \"_\" is the wildcard for match statements\n",
    "\n",
    "def http_error(status):\n",
    "    match status:\n",
    "        case 400:\n",
    "            return \"Bad Request\"\n",
    "        case 404:\n",
    "            return \"Not found\"\n",
    "        case 414:\n",
    "            return \"I'm a teapot\"\n",
    "        case _:\n",
    "            return \"Check your internet connection\"\n",
    "        \n",
    "print(http_error(100))"
   ]
  },
  {
   "cell_type": "markdown",
   "id": "46baa538",
   "metadata": {},
   "source": [
    "#### Flow Control Exercises"
   ]
  },
  {
   "cell_type": "code",
   "execution_count": null,
   "id": "44e37a2a",
   "metadata": {},
   "outputs": [],
   "source": [
    "# Create a while loop that counts by 5 from 1-100"
   ]
  },
  {
   "cell_type": "code",
   "execution_count": null,
   "id": "9be74c04",
   "metadata": {},
   "outputs": [],
   "source": [
    "# Create a script that counts from 1 to 10 and outputs if each number is odd or even"
   ]
  },
  {
   "cell_type": "code",
   "execution_count": null,
   "id": "254d2f27",
   "metadata": {},
   "outputs": [],
   "source": [
    "# Create a list of 5 numbers using a for loop. For each number, check to see if it is divisible by 3"
   ]
  },
  {
   "cell_type": "code",
   "execution_count": null,
   "id": "ef3bc520",
   "metadata": {},
   "outputs": [],
   "source": [
    "# Create a while loop that counts numbers by 2 until the number is greater than 20"
   ]
  },
  {
   "cell_type": "code",
   "execution_count": null,
   "id": "cc06c060",
   "metadata": {},
   "outputs": [],
   "source": [
    "# Create a list of your favorite 5 animals. Using a for loop, print each animal"
   ]
  },
  {
   "cell_type": "code",
   "execution_count": null,
   "id": "8a47a05e",
   "metadata": {},
   "outputs": [],
   "source": [
    "# Create a dictionary of you and your friends' favorite hobbies. Count the number of unique hobbies"
   ]
  },
  {
   "cell_type": "code",
   "execution_count": null,
   "id": "46ec8f5f",
   "metadata": {},
   "outputs": [],
   "source": [
    "# Create a while loop that prints the first 20 numbers of the fibonacci sequence: \n",
    "# https://en.wikipedia.org/wiki/Fibonacci_sequence"
   ]
  },
  {
   "cell_type": "markdown",
   "id": "b76ca945",
   "metadata": {},
   "source": [
    "### Functions"
   ]
  },
  {
   "cell_type": "markdown",
   "id": "4613e509",
   "metadata": {},
   "source": [
    "Functions in Python follow the same naming conventions as variables. Functions are the same as procedures in other languages."
   ]
  },
  {
   "cell_type": "code",
   "execution_count": 16,
   "id": "f557d479",
   "metadata": {},
   "outputs": [],
   "source": [
    "# Demonstrates a basic function in Python. This function demonstrates default/optional values\n",
    "def fibonacci(start=0, stop=10):\n",
    "    \"\"\"\n",
    "        Calculate the fibonnaci sequence. \n",
    "        Variables:\n",
    "            start: number to start the sequence (i.e. 0, 1, 3, etc.); default = 0\n",
    "            stop:  number of the sequence to stop; default = 20\n",
    "    \"\"\"\n",
    "    \n",
    "    c, n, counter = 0, 1, start\n",
    "    \n",
    "    if start < 0:\n",
    "        start = 0\n",
    "    \n",
    "    if start >= stop:\n",
    "        print(\"Error, start cannot be greater than stop\")\n",
    "    c2 = 0\n",
    "    if start > 0:\n",
    "        while c2 < start:\n",
    "            nxt = c + n\n",
    "            c, n = n, nxt\n",
    "            c2 += 1\n",
    "    \n",
    "    while counter <= stop:\n",
    "        print(\"The {}th number in the fibonnaci sequence is: {}\".format(counter, c))\n",
    "        nxt = c + n\n",
    "        c, n = n, nxt\n",
    "        counter += 1"
   ]
  },
  {
   "cell_type": "code",
   "execution_count": 17,
   "id": "e60b57cc",
   "metadata": {},
   "outputs": [
    {
     "name": "stdout",
     "output_type": "stream",
     "text": [
      "The 3th number in the fibonnaci sequence is: 2\n",
      "The 4th number in the fibonnaci sequence is: 3\n",
      "The 5th number in the fibonnaci sequence is: 5\n",
      "\n",
      "The 0th number in the fibonnaci sequence is: 0\n",
      "The 1th number in the fibonnaci sequence is: 1\n",
      "The 2th number in the fibonnaci sequence is: 1\n",
      "The 3th number in the fibonnaci sequence is: 2\n",
      "\n",
      "The 0th number in the fibonnaci sequence is: 0\n",
      "The 1th number in the fibonnaci sequence is: 1\n",
      "The 2th number in the fibonnaci sequence is: 1\n",
      "The 3th number in the fibonnaci sequence is: 2\n",
      "The 4th number in the fibonnaci sequence is: 3\n",
      "The 5th number in the fibonnaci sequence is: 5\n",
      "The 6th number in the fibonnaci sequence is: 8\n",
      "The 7th number in the fibonnaci sequence is: 13\n",
      "The 8th number in the fibonnaci sequence is: 21\n",
      "The 9th number in the fibonnaci sequence is: 34\n",
      "The 10th number in the fibonnaci sequence is: 55\n"
     ]
    }
   ],
   "source": [
    "# input values can be implicit, if in order\n",
    "fibonacci(3, 5)\n",
    "print() # newline\n",
    "\n",
    "# input values can be explicit and out of order\n",
    "fibonacci(stop=3, start=0)\n",
    "print()\n",
    "\n",
    "# example using a call with default values\n",
    "fibonacci()"
   ]
  },
  {
   "cell_type": "code",
   "execution_count": 15,
   "id": "97233232",
   "metadata": {},
   "outputs": [
    {
     "name": "stdout",
     "output_type": "stream",
     "text": [
      "2.0\n",
      "Error, a value wasn't passed into the function\n"
     ]
    }
   ],
   "source": [
    "# Demonstrates a function with a return value\n",
    "def get_sqrt(x):\n",
    "    return math.sqrt(x)\n",
    "\n",
    "print(get_sqrt(4))\n",
    "\n",
    "# note: input values without a default value must be passed into the function\n",
    "try:\n",
    "    get_sqrt()\n",
    "except TypeError:\n",
    "    print(\"Error, a value wasn't passed into the function\")"
   ]
  },
  {
   "cell_type": "code",
   "execution_count": 129,
   "id": "f8d75c97",
   "metadata": {},
   "outputs": [
    {
     "name": "stdout",
     "output_type": "stream",
     "text": [
      "Sports\n",
      "Coding\n",
      "Singing\n"
     ]
    }
   ],
   "source": [
    "# Functions can have any variable as an input, including lists\n",
    "def my_func(l):\n",
    "    for elem in l:\n",
    "        print(elem)\n",
    "        \n",
    "li = [\"Sports\", \"Coding\", \"Singing\"]\n",
    "my_func(li)"
   ]
  },
  {
   "cell_type": "code",
   "execution_count": 24,
   "id": "e372ad36",
   "metadata": {},
   "outputs": [
    {
     "data": {
      "text/plain": [
       "18"
      ]
     },
     "execution_count": 24,
     "metadata": {},
     "output_type": "execute_result"
    }
   ],
   "source": [
    "# functions can also have a variable list of arguments by using *\n",
    "def addall(*args):\n",
    "    return sum(args)\n",
    "\n",
    "addall(5, 6, 4, 3)"
   ]
  },
  {
   "cell_type": "code",
   "execution_count": 40,
   "id": "86fa2304",
   "metadata": {},
   "outputs": [
    {
     "data": {
      "text/plain": [
       "45"
      ]
     },
     "execution_count": 40,
     "metadata": {},
     "output_type": "execute_result"
    }
   ],
   "source": [
    "# you may have to unpack an object, such a tuple or dictionary, when passed into a function\n",
    "# this can be done for lists by using *\n",
    "addall(*[i for i in range(10)])"
   ]
  },
  {
   "cell_type": "code",
   "execution_count": 28,
   "id": "a69c252c",
   "metadata": {},
   "outputs": [
    {
     "name": "stdout",
     "output_type": "stream",
     "text": [
      "13\n",
      "20\n"
     ]
    }
   ],
   "source": [
    "# Python also has a lambda function feature, where one line functions can be defined\n",
    "def sum_sq(n):\n",
    "    return lambda x: pow(x, 2) + pow(n, 2)\n",
    "\n",
    "f = sum_sq(2)\n",
    "print(f(3))\n",
    "print(f(4))"
   ]
  },
  {
   "cell_type": "markdown",
   "id": "57beebd3",
   "metadata": {},
   "source": [
    "#### Function Exercises"
   ]
  },
  {
   "cell_type": "code",
   "execution_count": 130,
   "id": "a14b900b",
   "metadata": {},
   "outputs": [],
   "source": [
    "# Write three functions, one that calculates the sum of all numbers from 1-n\n",
    "# using a for loop, one that does the same using a while loop, and one that \n",
    "# calculates the sume using the formula (n)*(n-1)/2. Compare each funtion using\n",
    "# the 'timeit' library\n",
    "def sumSeqFor(n):\n",
    "    \"\"\"Calculate the sum of the integers between 1 and n, \n",
    "    inclusive, using the for loop\"\"\"\n",
    "    pass # TODO\n",
    "\n",
    "def sumSeqWhile(n):\n",
    "    \"\"\"Calculate the sum of the integers between 1 and n, \n",
    "    inclusive, using the while loop\"\"\"\n",
    "    pass\n",
    "\n",
    "def sumSeqCalc(n):\n",
    "    \"\"\"Calculate the sum of the integers between 1 and n, using (n/2)(n+1)\"\"\"\n",
    "    pass\n",
    "\n",
    "# example of using timeit to compare execution time for your three functions\n",
    "# time1 = timeit.timeit('sumSeqFor(100)','from __main__ import sumSeqFor', number=10000)\n",
    "# print(time1, time2, time3)"
   ]
  },
  {
   "cell_type": "code",
   "execution_count": null,
   "id": "b3087080",
   "metadata": {},
   "outputs": [],
   "source": [
    "# Write an encoder that will either encode or decode a plaintext using the \n",
    "# Ceasar Cipher: https://en.wikipedia.org/wiki/Caesar_cipher"
   ]
  },
  {
   "cell_type": "markdown",
   "id": "16f331ed",
   "metadata": {},
   "source": [
    "### Reading Files"
   ]
  },
  {
   "cell_type": "code",
   "execution_count": 133,
   "id": "0a6c5d57",
   "metadata": {},
   "outputs": [
    {
     "name": "stdout",
     "output_type": "stream",
     "text": [
      "1: Four score and seven years ago our fathers brought forth on this continent a new nation, conceived in liberty and dedicated to the proposition that all men are created equal.\n",
      "2: \n",
      "3: Now we are engaged in a great civil war, testing whether that nation or any nation so conceived and so dedicated can long endure. We are met on a great battlefield of that war. We have come to dedicate a portion of that field as a final resting-place for those who here gave their lives that that nation might live. It is altogether fitting and proper that we should do this.\n",
      "4: \n",
      "5: But, in a larger sense, we cannot dedicate, we cannot consecrate, we cannot hallow this ground. The brave men, living and dead who struggled here have consecrated it far above our poor power to add or detract. The world will little note nor long remember what we say here, but it can never forget what they did here. It is for us the living rather to be dedicated here to the unfinished work which they who fought here have thus far so nobly advanced. It is rather for us to be here dedicated to the great task remaining before us -- that from these honored dead we take increased devotion to that cause for which they gave the last full measure of devotion -- that we here highly resolve that these dead shall not have died in vain, that this nation under God shall have a new birth of freedom, and that government of the people, by the people, for the people shall not perish from the earth."
     ]
    }
   ],
   "source": [
    "# a text file can be read using with open(fileName, 'r') as dataFile\n",
    "# this opens up a sample file, Captain.txt, and counts the number of lines\n",
    "counter = 1\n",
    "with open(\"Address.txt\", 'r') as dataFile:\n",
    "    for line in dataFile:\n",
    "        print(str(counter) + \": \" + line, end = \"\")\n",
    "        counter = counter + 1"
   ]
  },
  {
   "cell_type": "code",
   "execution_count": 32,
   "id": "de9d0000",
   "metadata": {},
   "outputs": [
    {
     "name": "stdout",
     "output_type": "stream",
     "text": [
      "{'Four': 1, 'score': 1, 'and': 6, 'seven': 1, 'years': 1, 'ago': 1, 'our': 2, 'fathers': 1, 'brought': 1, 'forth': 1, 'on': 2, 'this': 3, 'continent': 1, 'a': 7, 'new': 2, 'nation,': 1, 'conceived': 2, 'in': 4, 'liberty': 1, 'dedicated': 4, 'to': 8, 'the': 9, 'proposition': 1, 'that': 13, 'all': 1, 'men': 1, 'are': 3, 'created': 1, 'equal.': 1, 'Now': 1, 'we': 8, 'engaged': 1, 'great': 3, 'civil': 1, 'war,': 1, 'testing': 1, 'whether': 1, 'nation': 4, 'or': 2, 'any': 1, 'so': 3, 'can': 2, 'long': 2, 'endure.': 1, 'We': 2, 'met': 1, 'battlefield': 1, 'of': 5, 'war.': 1, 'have': 5, 'come': 1, 'dedicate': 1, 'portion': 1, 'field': 1, 'as': 1, 'final': 1, 'resting-place': 1, 'for': 5, 'those': 1, 'who': 3, 'here': 6, 'gave': 2, 'their': 1, 'lives': 1, 'might': 1, 'live.': 1, 'It': 3, 'is': 3, 'altogether': 1, 'fitting': 1, 'proper': 1, 'should': 1, 'do': 1, 'this.': 1, 'But,': 1, 'larger': 1, 'sense,': 1, 'cannot': 3, 'dedicate,': 1, 'consecrate,': 1, 'hallow': 1, 'ground.': 1, 'The': 2, 'brave': 1, 'men,': 1, 'living': 2, 'dead': 3, 'struggled': 1, 'consecrated': 1, 'it': 2, 'far': 2, 'above': 1, 'poor': 1, 'power': 1, 'add': 1, 'detract.': 1, 'world': 1, 'will': 1, 'little': 1, 'note': 1, 'nor': 1, 'remember': 1, 'what': 2, 'say': 1, 'here,': 1, 'but': 1, 'never': 1, 'forget': 1, 'they': 3, 'did': 1, 'here.': 1, 'us': 3, 'rather': 2, 'be': 2, 'unfinished': 1, 'work': 1, 'which': 2, 'fought': 1, 'thus': 1, 'nobly': 1, 'advanced.': 1, 'task': 1, 'remaining': 1, 'before': 1, '--': 2, 'from': 2, 'these': 2, 'honored': 1, 'take': 1, 'increased': 1, 'devotion': 2, 'cause': 1, 'last': 1, 'full': 1, 'measure': 1, 'highly': 1, 'resolve': 1, 'shall': 3, 'not': 2, 'died': 1, 'vain,': 1, 'under': 1, 'God': 1, 'birth': 1, 'freedom,': 1, 'government': 1, 'people,': 2, 'by': 1, 'people': 1, 'perish': 1, 'earth.': 1}\n"
     ]
    }
   ],
   "source": [
    "# Using the same file, you can create a dictionary to count the number of times\n",
    "# each word is used\n",
    "def countWords(fileName):\n",
    "    \"\"\"Take a file and create a dictionary with dictionary key pairs of words in\n",
    "    the file and the number of times they occur. Return the dictionary.\"\"\"\n",
    "    dictionary = {}\n",
    "    words = []\n",
    "    \n",
    "    with open(fileName, 'r') as dataFile:\n",
    "        for line in dataFile:\n",
    "            words += line.split()\n",
    "\n",
    "    for word in words:\n",
    "        dictionary[word] = words.count(word)\n",
    "        \n",
    "    return dictionary\n",
    "\n",
    "print(countWords('Address.txt'))"
   ]
  },
  {
   "cell_type": "code",
   "execution_count": 34,
   "id": "da650245",
   "metadata": {},
   "outputs": [
    {
     "name": "stdout",
     "output_type": "stream",
     "text": [
      "{'a': 'ah', 'actual': 'genuine', 'am': 'be', 'are': 'be', 'back': 'aft', 'been': \"'twere\", 'big': 'vast', 'boy': 'lad', 'cheat': 'hornswaggle', 'cheater': 'hornswaggler', 'clean': 'swab', 'crew': 'hands', 'emergency': 'quandary', 'excuse': 'arr', 'floor': 'deck', 'food': 'grub', 'foreward': 'fore', 'friend': 'mate', 'front': 'fore', 'girl': 'lass', 'hotel': 'fleabag inn', 'hello': 'ahoy', 'hey': 'avast', 'is': 'be', 'kitchen': 'galley', 'lady': 'beauty', 'lawyer': 'foul blaggart', 'left': 'port', 'liar': 'scallywag', 'madam': 'proud beauty', 'man': 'mate', 'money': 'loot', 'my': 'me', 'only': \"nuthin' but\", 'path': 'gangway', 'professor': 'foul blaggart', 'quick': 'smart', 'quickly': 'smartly', 'restroom': 'head', 'reward': 'bounty', 'right': 'starboard', 'rum': 'grog', 'sailor': 'swabbie', 'sailors': 'swabbies', 'ship': 'galleon', 'sir': 'captain', 'steal': 'plunder', 'stop': 'belay', 'storage': 'hold', 'stuff': 'booty', 'surprise': 'shiver me timbers', 'test': 'trial', 'the': \"th'\", 'tidy': 'shipshape', 'whip': 'flog', 'wow': 'blimey', 'work': 'duty', 'yes': 'aye', 'you': 'ye', 'your': 'ye'}\n"
     ]
    }
   ],
   "source": [
    "# You can also load a dictionary using a properly formated text file\n",
    "def loadDictionary(fileName):\n",
    "    \"\"\"Generate a dictionary from a file, with translations, ie. a:ay \"\"\"\n",
    "    d = {}\n",
    "\n",
    "    with open(fileName, 'r') as dataFile:\n",
    "        for line in dataFile:\n",
    "            colonLoc = line.find(':')\n",
    "            normalSpeak = line[0:colonLoc]\n",
    "            pirateSpeak = line[(colonLoc+1):len(line)-1] #use len - 1, because len(line) returns '\\n'\n",
    "            d[normalSpeak] = pirateSpeak\n",
    "\n",
    "    return d\n",
    "\n",
    "print(loadDictionary(\"Pirate.txt\"))"
   ]
  },
  {
   "cell_type": "code",
   "execution_count": 35,
   "id": "20602fa7",
   "metadata": {},
   "outputs": [
    {
     "name": "stdout",
     "output_type": "stream",
     "text": [
      "Four score and seven years ago our fathers brought forth on this continent ah new nation, conceived in liberty and dedicated to th' proposition that all men be created equal. Now we be engaged in ah great civil war, testing whether that nation or any nation so conceived and so dedicated can long endure. We be met on ah great battlefield of that war. We have come to dedicate ah portion of that field as ah final resting-place for those who here gave their lives that that nation might live. It be altogether fitting and proper that we should do this. But, in ah larger sense, we cannot dedicate, we cannot consecrate, we cannot hallow this ground. The brave men, living and dead who struggled here have consecrated it far above our poor power to add or detract. The world will little note nor long remember what we say here, but it can never forget what they did here. It be for us th' living rather to be dedicated here to th' unfinished duty which they who fought here have thus far so nobly advanced. It be rather for us to be here dedicated to th' great task remaining before us -- that from these honored dead we take increased devotion to that cause for which they gave th' last full measure of devotion -- that we here highly resolve that these dead shall not have died in vain, that this nation under God shall have ah new birth of freedom, and that government of th' people, by th' people, for th' people shall not perish from th' earth. \n"
     ]
    }
   ],
   "source": [
    "# Example where you load a dictionary and translate a text via word substitution\n",
    "def translateToPirate(fileName):\n",
    "    \n",
    "    inStr = \"\"\n",
    "    \n",
    "    with open(fileName, 'r') as dataFile:\n",
    "        for line in dataFile:\n",
    "            inStr += line + '\\n'\n",
    "\n",
    "    pirateD = loadDictionary(\"Pirate.txt\")\n",
    "\n",
    "    words = inStr.split()\n",
    "    translatedStr = ''\n",
    "    for i in range(len(words)):\n",
    "        if(words[i] in pirateD):\n",
    "            words[i] = pirateD[words[i]]\n",
    "        translatedStr += words[i] + ' '\n",
    "\n",
    "    print(translatedStr)\n",
    "\n",
    "translateToPirate(\"Address.txt\")"
   ]
  },
  {
   "cell_type": "markdown",
   "id": "0a6f45b2",
   "metadata": {},
   "source": [
    "#### Reading Files Exercises"
   ]
  },
  {
   "cell_type": "markdown",
   "id": "d09b7673",
   "metadata": {},
   "source": [
    "This tutorial may be helpful: https://docs.python.org/3/tutorial/inputoutput.html#reading-and-writing-files"
   ]
  },
  {
   "cell_type": "code",
   "execution_count": null,
   "id": "7b94f87e",
   "metadata": {},
   "outputs": [],
   "source": [
    "# Create a function that takes a given file and encrypts it using a given key\n",
    "# You can use the ceasar cipher or another symmetric key algorithm. After \n",
    "# encrypting the file, write a new, encrypted file \n",
    "def encryptFile(fileName, key):\n",
    "    \"\"\"Use a key cypher to encrypt and save a file.\"\"\"\n",
    "    pass\n",
    "\n",
    "    # The following code may help:\n",
    "    # with open(fileName, 'w') as dataFile:\n",
    "       # dataFile.write(encryptedStr)"
   ]
  },
  {
   "cell_type": "code",
   "execution_count": null,
   "id": "1ff7d520",
   "metadata": {},
   "outputs": [],
   "source": [
    "# Create a function that takes a given file and decrypts it using a given key\n",
    "# You can use the ceasar cipher or another symmetric key algorithm. After \n",
    "# decrypting the file, write a new, encrypted file \n",
    "def decryptFile(fileName, key):\n",
    "    \"\"\"Use a key cypher to decrypt and save a file.\"\"\"\n",
    "    pass"
   ]
  },
  {
   "cell_type": "markdown",
   "id": "ece6a049",
   "metadata": {},
   "source": [
    "### Classes "
   ]
  },
  {
   "cell_type": "markdown",
   "id": "739d16d2",
   "metadata": {},
   "source": [
    "Python implements objects via classes. A class is a named object that has attributes. For example, a circle has a radius, diameter, etc. Classes can also have functions, for example a Circle object could return its radius or calculate its area."
   ]
  },
  {
   "cell_type": "code",
   "execution_count": 60,
   "id": "6eaf66c8",
   "metadata": {},
   "outputs": [],
   "source": [
    "# define a circle class\n",
    "class Circle:\n",
    "    \"\"\"Circle class\"\"\"\n",
    "    \n",
    "    # pi is a class variable, shared by all Circles\n",
    "    pi = math.pi\n",
    "    \n",
    "    # __init__() is used to create constructors, which initiate a class\n",
    "    def __init__(self, radius=1):\n",
    "        # note: all Circles should have a radius, but an instance of a circle will have this specific radius\n",
    "        self.radius = radius\n",
    "    \n",
    "    # __str__() is used to define a default output when printing an object\n",
    "    def __str__(self):\n",
    "        return \"I am a circle of radius: \" + str(self.radius) + '\\n' + \"My area is: \" + str(self.area())\n",
    "    \n",
    "    # example of a class function\n",
    "    def area(self):\n",
    "        return self.pi * self.radius ** 2"
   ]
  },
  {
   "cell_type": "code",
   "execution_count": 61,
   "id": "602fae40",
   "metadata": {},
   "outputs": [
    {
     "name": "stdout",
     "output_type": "stream",
     "text": [
      "I am a circle of radius: 5\n",
      "My area is: 78.53981633974483\n"
     ]
    }
   ],
   "source": [
    "c = Circle(5)\n",
    "\n",
    "print(c)"
   ]
  },
  {
   "cell_type": "markdown",
   "id": "1ba58ffc",
   "metadata": {},
   "source": [
    "Python also supports the concept of \"Inheretence\", so a base class can be used to define variables across many types of classes, whereas a derived class \"inherits\" the base class' functions, constructors, and variables."
   ]
  },
  {
   "cell_type": "code",
   "execution_count": 65,
   "id": "dda83f6e",
   "metadata": {},
   "outputs": [
    {
     "name": "stdout",
     "output_type": "stream",
     "text": [
      "Name: Steve Reynolds\n",
      "Position: Physician \n",
      "Employee ID: 1235123\n"
     ]
    }
   ],
   "source": [
    "class Employee:\n",
    "    \n",
    "    # class variable\n",
    "    company = \"USAF\"\n",
    "    \n",
    "    def __init__(self, fname, lname, position, employeeIDNum):\n",
    "        self.fname = fname\n",
    "        self.lname = lname\n",
    "        self.position = position\n",
    "        self.employeeID = employeeIDNum\n",
    "        \n",
    "    def __str__(self):\n",
    "        s = \"Name: {} {}\\nPosition: {} \\nEmployee ID: {}\".format(self.fname, self.lname, self.position, self.employeeID)\n",
    "        return s\n",
    "    \n",
    "    def getName(self):\n",
    "        s = self.fname + \" \" + self.lname\n",
    "        return s\n",
    "    \n",
    "    def getPosition(self):\n",
    "        return self.position\n",
    "    \n",
    "steve = Employee(\"Steve\", \"Reynolds\", \"Physician\", 1235123)\n",
    "print(steve)"
   ]
  },
  {
   "cell_type": "code",
   "execution_count": 75,
   "id": "5094884b",
   "metadata": {},
   "outputs": [
    {
     "name": "stdout",
     "output_type": "stream",
     "text": [
      "Name: Mike Smith\n",
      "Position: Janitor \n",
      "Employee ID: 1123422\n",
      "Mike makes $630.0 per week\n",
      "Mike makes $32760.0 per year\n"
     ]
    }
   ],
   "source": [
    "class WageEmployee(Employee):\n",
    "    def __init__(self, fname, lname, position, employeeIDNum, wage, hours):\n",
    "        self.fname = fname\n",
    "        self.lname = lname\n",
    "        self.position = position\n",
    "        self.employeeID = employeeIDNum\n",
    "        self.hourlyWage = wage\n",
    "        self.hours = hours\n",
    "        \n",
    "    def getWeeklySalary(self):\n",
    "        return self.hourlyWage * self.hours\n",
    "    \n",
    "    def getAnnualSalary(self):\n",
    "        return self.hourlyWage * self.hours * 52\n",
    "\n",
    "\n",
    "mike = WageEmployee(\"Mike\", \"Smith\", \"Janitor\", 1123422, 15.75, 40)\n",
    "print(mike)\n",
    "print(\"Mike makes ${} per week\".format(mike.getWeeklySalary()))\n",
    "print(\"Mike makes ${} per year\".format(mike.getAnnualSalary()))\n"
   ]
  },
  {
   "cell_type": "markdown",
   "id": "f8acc5f8",
   "metadata": {},
   "source": [
    "#### Class Exercises"
   ]
  },
  {
   "cell_type": "code",
   "execution_count": null,
   "id": "6f242f88",
   "metadata": {},
   "outputs": [],
   "source": [
    "# Create a salaried employee class that has the attribute \"annualSalary\"\n",
    "# Create class methods to calculate the weekly and monthly salary"
   ]
  }
 ],
 "metadata": {
  "kernelspec": {
   "display_name": "Python 3 (ipykernel)",
   "language": "python",
   "name": "python3"
  },
  "language_info": {
   "codemirror_mode": {
    "name": "ipython",
    "version": 3
   },
   "file_extension": ".py",
   "mimetype": "text/x-python",
   "name": "python",
   "nbconvert_exporter": "python",
   "pygments_lexer": "ipython3",
   "version": "3.9.13"
  }
 },
 "nbformat": 4,
 "nbformat_minor": 5
}

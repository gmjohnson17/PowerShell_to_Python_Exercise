{
 "cells": [
  {
   "cell_type": "markdown",
   "id": "51a65e53",
   "metadata": {},
   "source": [
    "# PowerShell to Python Review Exercises"
   ]
  },
  {
   "cell_type": "markdown",
   "id": "866a53a9",
   "metadata": {},
   "source": [
    "The purpose of this review is to translate foundational scripting concepts from PowerShell to Python. This notebook provides an overview on:\n",
    "- Variables\n",
    "- Operators\n",
    "- Control flow/loops\n",
    "- User input\n",
    "- Error Checking\n",
    "- Functions\n",
    "- Classes\n",
    "- Reading, Writing, and Manipulating Files\n",
    "\n",
    "Note: This notebook is intentionally bare-bones. \n",
    "\n",
    "If you have never used Jupyter before, this document describes the basic features: https://docs.jupyter.org/en/latest/\n",
    "\n",
    "You can also review this quick-start guide: https://www.dataquest.io/blog/jupyter-notebook-tutorial/"
   ]
  },
  {
   "cell_type": "markdown",
   "id": "23026367",
   "metadata": {},
   "source": [
    "## Python Resources\n",
    "\n",
    "Python Docs (tutorial): https://docs.python.org/3/tutorial/index.html\n",
    "\n",
    "Top Free Python Resources: https://www.freecodecamp.org/news/the-best-way-to-learn-python-python-programming-tutorial-for-beginners/#:~:text=Best%20Python%20Tutorials%20for%20Beginners%201%20Learn%20Python,8%20Python%20Basics%20with%20Sam%20%28freeCodeCamp%29%20More%20items\n",
    "\n",
    "AFRL recommends U Mich's \"Programming for Everyone\" course (#4 in the link above). "
   ]
  },
  {
   "cell_type": "markdown",
   "id": "c8ae1249",
   "metadata": {},
   "source": [
    "## Import dependencies / libraries"
   ]
  },
  {
   "cell_type": "code",
   "execution_count": null,
   "id": "153d2348",
   "metadata": {},
   "outputs": [],
   "source": [
    "# Don't forget to run\n",
    "import os\n",
    "import sys\n",
    "import math\n",
    "import random\n",
    "import timeit"
   ]
  },
  {
   "cell_type": "code",
   "execution_count": null,
   "id": "194b24c2",
   "metadata": {},
   "outputs": [],
   "source": [
    "# check version\n",
    "print(\"Python Version: \", sys.version)"
   ]
  },
  {
   "cell_type": "markdown",
   "id": "cb5627cd-1706-4a1a-a39f-d9f40b17016a",
   "metadata": {},
   "source": [
    "## Introduction to Python\n",
    "\n",
    "Python is an <b>interpreted</b> language. Unlike in a compiled language, where code is <i>compiled</i> into an executable file (e.g. word.exe), in an interpreted language code is actively run, from the top-down, at the time of execution. The code will run until it is complete or crashes. \n",
    "\n",
    "Python is also an <b>object-oriented programming</b> (OOP) language. OOP is focused on objects, which have methods (or procedures) and attributes. Classes define how global objects function.\n",
    "\n",
    "A summary of Python's features are:\n",
    "| The Good | The Bad |\n",
    "| --- | --- |\n",
    "| As an <b><i>interpreted</i></b> language, Python is easy to run and is highly portable. | Python is much slower than many <i>compiled</i> languages, like C and C++ |\n",
    "| As an <b><i>OOP</i></b> language, Python is great for reusing code through classes and functions | Python is not as space (memory) efficient as some <i>procedural</i> languages |\n",
    "| Python has a huge, standard library, which significantly speeds up software development times | Python3 made major changes from Python2, which are not backwards compatible | \n",
    "| Python is focused on readability, making it easier for beginners | Python's use of dynamic-typing and lack of syntax can be initially challenging for experienced programmers |"
   ]
  },
  {
   "cell_type": "markdown",
   "id": "304eb735-ce60-4b96-9796-f7e0289ad715",
   "metadata": {},
   "source": [
    "### Python Syntax\n",
    "\n",
    "The Python interpreter uses the following types of syntax to interpret code:\n",
    "\n",
    "| Name | Description | Example(s) |\n",
    "|---| --- | --- |\n",
    "| Keywords | Predefined words that invoke pre-defined Python functionality | if, else, for, while, ... |\n",
    "| Literals | String or number values | \"Python Rocks!\", 1, 3.14159 |\n",
    "| Operators (Arithmetic) | Used for arithmetic calculations | +, -, /, *, %, //, etc. |\n",
    "| Operators (Comparison) | Used to compare two values | ==, !=, >, <, >=, <=, is, in, etc. |\n",
    "| Operators (Logical) | Used for Boolean functions | not, and, or |\n",
    "| Delimiters | Used to seperate parameters or define built-in data structures | \",\", [], {}. (). etc. |\n",
    "| Comments | Used for sections of code ignored by the interpreter | # or \"\" for single-line, \"\"\" \"\"\" for multi-line |\n",
    "| Variables | Hold a reference to a literal or data structure's location in memory | a = 1; b = True |\n",
    "\n",
    "In addition to the above, Python also uses whitespace and continuation to group <i>blocks</i> of code together during execution."
   ]
  },
  {
   "cell_type": "markdown",
   "id": "c8ecce9b-6e51-472f-8b14-1145d343a746",
   "metadata": {},
   "source": [
    "### Whitespace and Continuation\n",
    "\n",
    "Code in Python is grouped by <i>blocks</i> of code. A block of code is a group of statements, which are denoted by indentation:\n",
    "\n",
    "The first line of a Python file should have no indentation. Subordinate blocks of code are declared using colons (:). Subordinate blocks of code are also indented by either tabs or spaces (by default (as defined by PEP8, the Python Style Guide), Python uses 4 spaces, but any positive number of spaces can be used)."
   ]
  },
  {
   "cell_type": "code",
   "execution_count": null,
   "id": "f4f458d4-669e-41ae-861e-cc526610efee",
   "metadata": {},
   "outputs": [],
   "source": [
    "# Variable Initialization\n",
    "i = 10\n",
    "x = 1\n",
    "\n",
    "# Block 1\n",
    "while i > 0:\n",
    "    # Block 2\n",
    "    if x > 1:\n",
    "        # Block 3\n",
    "        print(x*i)\n",
    "    # Block 2\n",
    "    i -= 1\n",
    "    x += 2\n",
    "# Block 1\n",
    "print(\"End of block\")"
   ]
  },
  {
   "cell_type": "markdown",
   "id": "43d80ad3-001f-4e5b-b32f-2e08cfbb7534",
   "metadata": {},
   "source": [
    "### Keyword Functions"
   ]
  },
  {
   "cell_type": "code",
   "execution_count": null,
   "id": "15be0031-7fd7-4b9d-8042-07b0e37dddad",
   "metadata": {},
   "outputs": [],
   "source": [
    "# Python supports over 150 built-in keyword functions, which are variables (keywords) that point toward a line of code\n",
    "# For example, print() is a keyword function that prints the input objects to the console\n",
    "print(\"Knife or banana\")\n",
    "\n",
    "# variables can be assigned to a keyword\n",
    "a = print\n",
    "a(\"Didn't think this could happen\")\n",
    "\n",
    "# Note: keywords can be overwritten, so be careful"
   ]
  },
  {
   "cell_type": "markdown",
   "id": "b29c6542",
   "metadata": {},
   "source": [
    "### Comments in Python"
   ]
  },
  {
   "cell_type": "code",
   "execution_count": null,
   "id": "57a296f9",
   "metadata": {},
   "outputs": [],
   "source": [
    "# Python uses the hash sign (#) for single line comments\n",
    "\n",
    "\"\"\"\n",
    "Python uses undeclarred string literals for single and \n",
    "multi-line comments. \n",
    "\"\"\"\n",
    "def my_function():\n",
    "    \"\"\" A special type of string literal is the docstring.\n",
    "    A docstring is declared at the start of the code, after\n",
    "    a class declaration, function declaration, etc. \"\"\"\n",
    "    pass # used as dummy input/output for a function"
   ]
  },
  {
   "cell_type": "markdown",
   "id": "d2de273c",
   "metadata": {},
   "source": [
    "## Variables in Python"
   ]
  },
  {
   "cell_type": "markdown",
   "id": "29e5482a",
   "metadata": {},
   "source": [
    "A variable is used to store information for reference. For example: \n",
    "`a = 1`\n",
    "\n",
    "Python does not use explicit type casting for variables. A single variable can be assigned integer (int), string, boolean (bool), or other properties without explicit type casting."
   ]
  },
  {
   "cell_type": "code",
   "execution_count": null,
   "id": "91d2f24c",
   "metadata": {},
   "outputs": [],
   "source": [
    "# example variable creation and assignment\n",
    "a = 1\n",
    "print(a, \"\\n\")\n",
    "\n",
    "a = True\n",
    "print(a)"
   ]
  },
  {
   "cell_type": "markdown",
   "id": "3da60c16",
   "metadata": {},
   "source": [
    "In Python, variable names are typically all lowercase and use an underscore for multi-word variable names.\n",
    "\n",
    "Variable names are case sensitive in Python (so Eagle != eagle) and cannot use restricted words (print, string, int, etc.)."
   ]
  },
  {
   "cell_type": "code",
   "execution_count": null,
   "id": "b040fea8",
   "metadata": {},
   "outputs": [],
   "source": [
    "unicorn_height = 72\n",
    "Unicorn_height = 58\n",
    "print(unicorn_height == Unicorn_height)"
   ]
  },
  {
   "cell_type": "markdown",
   "id": "5b39e72e",
   "metadata": {},
   "source": [
    "#### Variable Types"
   ]
  },
  {
   "cell_type": "markdown",
   "id": "5fd86631",
   "metadata": {},
   "source": [
    "Python uses the following variable types\n",
    "- Boolean (True or False)\n",
    "- Integers (numbers)\n",
    "- Floats (decimal numbers)\n",
    "- String (words/text)\n",
    "- Lists (similar to arrays)\n",
    "- Tuples (immutable lists)\n",
    "- Sets (unordered lists with no repeat values)\n",
    "- Dictionaries"
   ]
  },
  {
   "cell_type": "code",
   "execution_count": null,
   "id": "4a629172",
   "metadata": {},
   "outputs": [],
   "source": [
    "# Booleans are used for comparison (True/False) and are output from logical comparisons\n",
    "print(str(type(True == False)) + '\\n')\n",
    "\n",
    "print(\"True == False: \", True == False, \"\\n\")\n",
    "\n",
    "print(type(1 < 2), \"\\n\") # \n",
    "\n",
    "print(\"1 < 2 : \", 1 < 2)"
   ]
  },
  {
   "cell_type": "code",
   "execution_count": null,
   "id": "7836bcae",
   "metadata": {
    "scrolled": true
   },
   "outputs": [],
   "source": [
    "# Numbers in Python are assigned as either integer or float \n",
    "# based on the use of a decimal point\n",
    "a, b = 1, 1.0\n",
    "\n",
    "print(type(a), \"\\n\")\n",
    "\n",
    "print(type(b))"
   ]
  },
  {
   "cell_type": "code",
   "execution_count": null,
   "id": "23f61ea9",
   "metadata": {},
   "outputs": [],
   "source": [
    "# When an integer is combined with a float, the output type is \n",
    "# float\n",
    "a, b = 1, 1.0\n",
    "c = a + b\n",
    "\n",
    "print(type(c), \"\\n\")\n",
    "\n",
    "print(c)"
   ]
  },
  {
   "cell_type": "code",
   "execution_count": null,
   "id": "98a70010",
   "metadata": {},
   "outputs": [],
   "source": [
    "# Certain functions will output either an int or float, depending on the function's output type\n",
    "c = 2.0\n",
    "\n",
    "print(math.floor(c), \"\\n\")\n",
    "\n",
    "print(math.sqrt(c))"
   ]
  },
  {
   "cell_type": "markdown",
   "id": "3f40a6d2",
   "metadata": {},
   "source": [
    "To read more about math, see the Python docs: https://docs.python.org/3/library/math.html"
   ]
  },
  {
   "cell_type": "code",
   "execution_count": null,
   "id": "26d924d3",
   "metadata": {},
   "outputs": [],
   "source": [
    "# Strings can be thought of as groups of characters and words. In Python, strings can also be \n",
    "# manipulated as lists of characters\n",
    "s = \"I love Python!\"\n",
    "print(s)"
   ]
  },
  {
   "cell_type": "code",
   "execution_count": null,
   "id": "03fa98a0",
   "metadata": {},
   "outputs": [],
   "source": [
    "# Strings can be accessed as lists. In python, -1 is the last character, 0 is the first character, \n",
    "# and substrings (slices) can be selected via [x:n-1], where x is the start index and n is the end index\n",
    "print(s[0])\n",
    "print(s[-1])\n",
    "print(s[7:13])"
   ]
  },
  {
   "cell_type": "markdown",
   "id": "140ee651",
   "metadata": {},
   "source": [
    "Strings have several methods, such as split(), capitalize(), find(), and format() that are useful for string searching, manipulation, and error checking. These methods can be researched further here: https://docs.python.org/3/library/stdtypes.html#string-methods"
   ]
  },
  {
   "cell_type": "code",
   "execution_count": null,
   "id": "cd91562b",
   "metadata": {},
   "outputs": [],
   "source": [
    "# Example string methods\n",
    "s = \"How much wood would a woodchuck chuck if a woodchuck could chuck wood? a chord!\"\n",
    "\n",
    "print(s.split(\"wood\"), \"\\n\") # splits the string on the sub-string \"wood\"\n",
    "\n",
    "print(s.capitalize(), \"\\n\") # capitalizes the first letter of a string\n",
    "\n",
    "print(s.find(\"wood\"), \"\\n\") # in this case, returns the index of the first use of \"wood\"\n",
    "\n",
    "print(\"The output of 1 + 2 is {0}\".format(1 + 2), \"\\n\")\n",
    "\n",
    "# one unique feature is that you can search to see if a substring exists using 'in', since strings are manipulated like lists\n",
    "print(\"wood\" in s)"
   ]
  },
  {
   "cell_type": "markdown",
   "id": "203dd83e",
   "metadata": {},
   "source": [
    "Tuples are a special type of \"immutable\" collection of objects, meaning that they have static value assignments. Tuples are typically used for function return calls when you need to pass multiple variables. "
   ]
  },
  {
   "cell_type": "code",
   "execution_count": null,
   "id": "26b654f9",
   "metadata": {},
   "outputs": [],
   "source": [
    "# tuples are declared using parenthesis () or with multiple, comma separated values\n",
    "t = (\"val1\", \"val2\", \"val3\")\n",
    "\n",
    "# multiple values can be defined by calling a tuple directly\n",
    "val1, val2, val3 = t\n",
    "\n",
    "# or a specific position in the tuple can be called\n",
    "val4 = t[2]\n",
    "\n",
    "print(\"t: \", t, '\\n')\n",
    "\n",
    "print(\"vals: \", val1, val2, val3, val4, '\\n')\n",
    "\n",
    "# as tuples are immutable, trying \n",
    "try:\n",
    "    t[0] = 0\n",
    "except TypeError:\n",
    "    print(\"Tuples are immutable\")"
   ]
  },
  {
   "cell_type": "markdown",
   "id": "070036c7",
   "metadata": {},
   "source": [
    "Sets are unordered lists with no repeat values. They are created using the curly bracket (`{}`). \n",
    "\n",
    "Note: an empty set has to be created using the set function since dictionaries also use `{}`.\n",
    "\n",
    "Sets can be useful for mathematical operations or to find all unique values in a list. Once established, sets can be sorted (alphabetical or numeric order).\n",
    "\n",
    "Sets also make use of mathematical set operations, including:\n",
    "- Difference - (example A - B for items in A not in B)\n",
    "- Union | (example A | B for items in A, B, or both)\n",
    "- Intersect & (example A & B for items in both A and B)\n",
    "- Not-intersect ^ (example A ^ B for items in either A or B)"
   ]
  },
  {
   "cell_type": "code",
   "execution_count": null,
   "id": "c5888e5e",
   "metadata": {},
   "outputs": [],
   "source": [
    "basket = {\"apples\", \"oranges\", \"bananas\", \"apples\"}\n",
    "\n",
    "print(basket, '\\n')\n",
    "\n",
    "# you can check if something is in a set using \"in\"\n",
    "print(\"oranges\" in basket, '\\n')\n",
    "\n",
    "# sets can be sorted, which turns a set into a sorted list\n",
    "print(sorted(basket))"
   ]
  },
  {
   "cell_type": "code",
   "execution_count": null,
   "id": "261e2004",
   "metadata": {},
   "outputs": [],
   "source": [
    "# Like in PowerShell arrays, lists are not typed. They can be created and manipulated in several ways. Some examples:\n",
    "l = [1, 2, 3]\n",
    "\n",
    "print(\"l is {}\".format(l))\n",
    "\n",
    "print(\"l[0] is {}\".format(l[0]))\n",
    "\n",
    "l.append(4)\n",
    "print(\"After appending 4, l[-1] is {}\".format(l[-1]))\n",
    "\n",
    "l = l + [5]\n",
    "print(\"After appending 5, l[-1] is {}\".format(l[-1]))\n",
    "\n",
    "l = list(range(0, 10, 2)) # list creation using the list() function\n",
    "print(\"l is {}\".format(l))\n",
    "\n",
    "l = [x for x in range(7)]\n",
    "print(\"l is {}\".format(l))"
   ]
  },
  {
   "cell_type": "code",
   "execution_count": null,
   "id": "9e644748",
   "metadata": {},
   "outputs": [],
   "source": [
    "# dictionaries are the equivalent of a PowerShell hashtable. A key is given and can be used to access a single value or\n",
    "# a list of values\n",
    "my_dict = {\"Graham\": [\"Lacrosse, Swimming, Ultimate Frisbee\"], \n",
    "           \"Jeffrey\" : [\"Parties\", \"Scuba Diving\", \"Long walks on the beach\"],\n",
    "           \"Tyler\" : [\"Paper Mache\", \"High-risk Fingerpainting\", \"Laughing\"]}\n",
    "print(my_dict)\n",
    "\n",
    "# individual entries can be accessed using the key\n",
    "print(my_dict[\"Graham\"])\n",
    "\n",
    "# like lists, dictionaries can be created through dictionary comprehensions\n",
    "pows = {x : x ** 2 for x in range(11)} #see next section for use of **\n",
    "print(pows)"
   ]
  },
  {
   "cell_type": "markdown",
   "id": "97e066d4",
   "metadata": {},
   "source": [
    "### Operators"
   ]
  },
  {
   "cell_type": "markdown",
   "id": "db37571f",
   "metadata": {},
   "source": [
    "Operators allows the user to manipulate data and interact with the user and/or computer.\n",
    "\n",
    "Arithmetic operators include:\n",
    "- Add (+)\n",
    "- Subtract (-)\n",
    "- Multiply (*)\n",
    "- Divide (/)\n",
    "- Decimal Divide (//)\n",
    "- Modulus (%)\n",
    "- Power (**) "
   ]
  },
  {
   "cell_type": "code",
   "execution_count": null,
   "id": "08f5127e",
   "metadata": {},
   "outputs": [],
   "source": [
    "# Divide vs. Decimal Divide\n",
    "print(\"7 / 2 = {}\".format(7/2))\n",
    "print(\"7 // 2 = {}\".format(7//2))\n",
    "\n",
    "# Modulus Arithmetic\n",
    "print(\"7 % 2 = {}\".format(7%2))"
   ]
  },
  {
   "cell_type": "code",
   "execution_count": null,
   "id": "473c04ce",
   "metadata": {},
   "outputs": [],
   "source": [
    "# Like in PowerShell and other languages, short hand operators also work in Python, such as -=. +=. *=. etc.\n",
    "a = 1\n",
    "b = 2\n",
    "\n",
    "a -= b\n",
    "print(a)\n",
    "\n",
    "a += b\n",
    "print(a)\n",
    "\n",
    "a *= b\n",
    "print(a)"
   ]
  },
  {
   "cell_type": "markdown",
   "id": "a5dd1df9",
   "metadata": {},
   "source": [
    "Comparison operators output boolean values. Comparison operators in Python include:\n",
    "- is (equivalent) \n",
    "- == (equals)\n",
    "- != (not equal)\n",
    "- \\> / >= (greater than, greater than or equal to)\n",
    "- < / <= (less than, less than or equal to)"
   ]
  },
  {
   "cell_type": "markdown",
   "id": "12ec1729",
   "metadata": {},
   "source": [
    "Logical operators are used for booleans. Logical operators include:\n",
    "- and\n",
    "- or\n",
    "- not"
   ]
  },
  {
   "cell_type": "code",
   "execution_count": null,
   "id": "16f75b80",
   "metadata": {},
   "outputs": [],
   "source": [
    "x = True\n",
    "y = False\n",
    "print(x and y)\n",
    "print(not (x and y))"
   ]
  },
  {
   "cell_type": "markdown",
   "id": "dd569159",
   "metadata": {},
   "source": [
    "## User Input "
   ]
  },
  {
   "cell_type": "code",
   "execution_count": null,
   "id": "7465ae61",
   "metadata": {},
   "outputs": [],
   "source": [
    "# User input without error checking\n",
    "x = input(\"Please input a your name: \")\n",
    "print(\"Your name is: \", x)"
   ]
  },
  {
   "cell_type": "code",
   "execution_count": null,
   "id": "3e7fb1e3",
   "metadata": {},
   "outputs": [],
   "source": [
    "# User input with error checking\n",
    "try:\n",
    "    x = int(input(\"Please input a number between 1-10: \"))\n",
    "    if(x >= 1 and x <= 10):\n",
    "        print(\"Good job!\")\n",
    "    else:\n",
    "        print(\"That number was not between 1 and 10 :(\")\n",
    "except ValueError:\n",
    "    print(\"That was not a number\")"
   ]
  },
  {
   "cell_type": "markdown",
   "id": "e2b617bc",
   "metadata": {},
   "source": [
    "#### User Input Exercises"
   ]
  },
  {
   "cell_type": "code",
   "execution_count": null,
   "id": "6b3d976d",
   "metadata": {},
   "outputs": [],
   "source": [
    "# Write a Python script that takes a user's input number of seconds and converts \n",
    "# it to hours"
   ]
  },
  {
   "cell_type": "code",
   "execution_count": null,
   "id": "3e996ab3",
   "metadata": {},
   "outputs": [],
   "source": [
    "# Write a Python script that takes a user's input number and converts it to \n",
    "# a hexidecimal number"
   ]
  },
  {
   "cell_type": "code",
   "execution_count": null,
   "id": "b29eb750",
   "metadata": {},
   "outputs": [],
   "source": [
    "# Write a Python script that takes a user's input string and converts it to \n",
    "# ASCII or Unicode"
   ]
  },
  {
   "cell_type": "code",
   "execution_count": null,
   "id": "9fab9818",
   "metadata": {},
   "outputs": [],
   "source": [
    "# Write a Python script that takes a user's input on a number of grades to \n",
    "# assess, take each grade, and then output summary statistiscs (highest, lowest\n",
    "# average, etc.)"
   ]
  },
  {
   "cell_type": "code",
   "execution_count": null,
   "id": "542f5e22",
   "metadata": {},
   "outputs": [],
   "source": [
    "# Write a Python script that takes a user's height and weight and output's \n",
    "# their BMI"
   ]
  },
  {
   "cell_type": "markdown",
   "id": "a508576e",
   "metadata": {},
   "source": [
    "## Control Flow"
   ]
  },
  {
   "cell_type": "markdown",
   "id": "a633c6bf",
   "metadata": {},
   "source": [
    "Python uses the following Control Flow statements: \n",
    "- if-else statements (conditional)\n",
    "- while loops (conditional)\n",
    "- for loops (collection-based and iterative)\n",
    "- match statements (conditional; equivalent to PowerShell switch statements)\n",
    "\n",
    "NOTE: Where PowerShell uses `{}` to denote the body of a flow control python uses indentations via tab. Anything that is indented will be part of the corresponding Control Flow's statement.\n",
    "\n",
    "Further reading: https://docs.python.org/3/tutorial/controlflow.html"
   ]
  },
  {
   "cell_type": "code",
   "execution_count": null,
   "id": "dc88b41a",
   "metadata": {},
   "outputs": [],
   "source": [
    "# for more than three cases, middle cases use elif\n",
    "x = 1\n",
    "\n",
    "if x % 2 == 0:\n",
    "    print(\"x is even\")\n",
    "# elif: <another comparison>\n",
    "else:\n",
    "    print(\"x is odd\")"
   ]
  },
  {
   "cell_type": "code",
   "execution_count": null,
   "id": "51817bbf",
   "metadata": {},
   "outputs": [],
   "source": [
    "# for more than three cases, middle cases use elif (python equivalent of switch statements)\n",
    "x = 100\n",
    "if x >= 1000:\n",
    "    print(\"x is in the thousands\")\n",
    "elif x >= 100:\n",
    "    print(\"x is in the hundreds\")\n",
    "else:\n",
    "    print(\"x is small\")"
   ]
  },
  {
   "cell_type": "code",
   "execution_count": null,
   "id": "ede67f39",
   "metadata": {},
   "outputs": [],
   "source": [
    "# the for loop can be used to iterate of objects in a list\n",
    "l = [1, 2, 3]\n",
    "for x in l:\n",
    "    print(x)"
   ]
  },
  {
   "cell_type": "code",
   "execution_count": null,
   "id": "28568885",
   "metadata": {},
   "outputs": [],
   "source": [
    "# for loops can also be used with the range() operator\n",
    "for x in range(5):\n",
    "    print(x)"
   ]
  },
  {
   "cell_type": "code",
   "execution_count": null,
   "id": "11fc7ecd",
   "metadata": {},
   "outputs": [],
   "source": [
    "# strings are, by default, treated like character lists\n",
    "s = \"string\"\n",
    "for c in s:\n",
    "    print(c)"
   ]
  },
  {
   "cell_type": "code",
   "execution_count": null,
   "id": "cd8f7d36",
   "metadata": {},
   "outputs": [],
   "source": [
    "# dictionaries can also be accessed via for loops\n",
    "prices = {\"Poptart\" : 0.75, \"Popcorn\" : 0.25, \"Breakfast Burrito\" : 1.50}\n",
    "\n",
    "# by default, the for loop will only grab the key values\n",
    "for p in prices:\n",
    "    print(\"{} : ${}\".format(p, prices[p]))\n",
    "    \n",
    "print()\n",
    "\n",
    "# access key : value pairs from a dictionary\n",
    "for p in prices.items():\n",
    "    print(p)\n",
    "\n",
    "print()\n",
    "\n",
    "# access values from a dictionary\n",
    "for p in prices.values():\n",
    "    print(p)"
   ]
  },
  {
   "cell_type": "code",
   "execution_count": null,
   "id": "962b79bb",
   "metadata": {},
   "outputs": [],
   "source": [
    "# for loops can also be nested\n",
    "a = [1, 2, 3]\n",
    "b = [4, 5, 6]\n",
    "for i in a:\n",
    "    for j in b:\n",
    "        print(\"{} * {} = {}\".format(i, j, i*j))"
   ]
  },
  {
   "cell_type": "code",
   "execution_count": null,
   "id": "c26bab07",
   "metadata": {},
   "outputs": [],
   "source": [
    "# while can also be used when an unknown number of operations will occur or a condition needs to be met\n",
    "a = -1\n",
    "while a != 7:\n",
    "    a = random.randint(1,10)\n",
    "    print(\"a = {}\".format(a))"
   ]
  },
  {
   "cell_type": "code",
   "execution_count": null,
   "id": "4d4b3e72",
   "metadata": {},
   "outputs": [],
   "source": [
    "# while loops can also be used for input validation\n",
    "x = -1\n",
    "try:\n",
    "    while(x <= 0 or x > 10):\n",
    "        x = int(input(\"Please input a number between 1-10: \"))\n",
    "        if(x >= 1 and x <= 10):\n",
    "            print(\"Good job!\")\n",
    "except ValueError:\n",
    "    print(\"That was not a number\")"
   ]
  },
  {
   "cell_type": "code",
   "execution_count": null,
   "id": "d5737d46",
   "metadata": {
    "scrolled": true
   },
   "outputs": [],
   "source": [
    "# do while loops can be simulated by using break statements\n",
    "x = 0\n",
    "while True:\n",
    "    x += 1\n",
    "    if x >= 10:\n",
    "        break\n",
    "    else:\n",
    "        print(\"x: {}\".format(x))"
   ]
  },
  {
   "cell_type": "code",
   "execution_count": null,
   "id": "0dd4d2ce",
   "metadata": {},
   "outputs": [],
   "source": [
    "# match statements; note: match/case were implemented in Python 3.10\n",
    "# \"_\" is the wildcard for match statements\n",
    "\n",
    "def http_error(status):\n",
    "    match status:\n",
    "        case 400:\n",
    "            return \"Bad Request\"\n",
    "        case 404:\n",
    "            return \"Not found\"\n",
    "        case 414:\n",
    "            return \"I'm a teapot\"\n",
    "        case _:\n",
    "            return \"Check your internet connection\"\n",
    "        \n",
    "print(http_error(100))"
   ]
  },
  {
   "cell_type": "markdown",
   "id": "46baa538",
   "metadata": {},
   "source": [
    "### Control Flow Exercises"
   ]
  },
  {
   "cell_type": "code",
   "execution_count": null,
   "id": "44e37a2a",
   "metadata": {},
   "outputs": [],
   "source": [
    "# Create a while loop that counts by 5 from 1-100"
   ]
  },
  {
   "cell_type": "code",
   "execution_count": null,
   "id": "9be74c04",
   "metadata": {},
   "outputs": [],
   "source": [
    "# Create a script that counts from 1 to 10 and outputs if each number is odd or even"
   ]
  },
  {
   "cell_type": "code",
   "execution_count": null,
   "id": "254d2f27",
   "metadata": {},
   "outputs": [],
   "source": [
    "# Create a list of 5 numbers using a for loop. For each number, check to see if it is divisible by 3"
   ]
  },
  {
   "cell_type": "code",
   "execution_count": null,
   "id": "ef3bc520",
   "metadata": {},
   "outputs": [],
   "source": [
    "# Create a while loop that counts numbers by 2 until the number is greater than 20"
   ]
  },
  {
   "cell_type": "code",
   "execution_count": null,
   "id": "cc06c060",
   "metadata": {},
   "outputs": [],
   "source": [
    "# Create a list of your favorite 5 animals. Using a for loop, print each animal"
   ]
  },
  {
   "cell_type": "code",
   "execution_count": null,
   "id": "8a47a05e",
   "metadata": {},
   "outputs": [],
   "source": [
    "# Create a dictionary of you and your friends' favorite hobbies. Count the number of unique hobbies"
   ]
  },
  {
   "cell_type": "code",
   "execution_count": null,
   "id": "46ec8f5f",
   "metadata": {},
   "outputs": [],
   "source": [
    "# Create a while loop that prints the first 20 numbers of the Fibonacci sequence: \n",
    "# https://en.wikipedia.org/wiki/Fibonacci_sequence"
   ]
  },
  {
   "cell_type": "markdown",
   "id": "b76ca945",
   "metadata": {},
   "source": [
    "## Functions"
   ]
  },
  {
   "cell_type": "markdown",
   "id": "4613e509",
   "metadata": {},
   "source": [
    "Functions in Python follow the same naming conventions as variables. Functions are the same as procedures in other languages."
   ]
  },
  {
   "cell_type": "code",
   "execution_count": null,
   "id": "f557d479",
   "metadata": {},
   "outputs": [],
   "source": [
    "# Demonstrates a basic function in Python. This function demonstrates default/optional values\n",
    "def fibonacci(start=0, stop=10):\n",
    "    \"\"\"\n",
    "        Calculate the fibonnaci sequence. \n",
    "        Variables:\n",
    "            start: number to start the sequence (i.e. 0, 1, 3, etc.); default = 0\n",
    "            stop:  number of the sequence to stop; default = 20\n",
    "    \"\"\"\n",
    "    \n",
    "    c, n, counter = 0, 1, start\n",
    "    \n",
    "    if start < 0:\n",
    "        start = 0\n",
    "    \n",
    "    if start >= stop:\n",
    "        print(\"Error, start cannot be greater than stop\")\n",
    "    c2 = 0\n",
    "    if start > 0:\n",
    "        while c2 < start:\n",
    "            nxt = c + n\n",
    "            c, n = n, nxt\n",
    "            c2 += 1\n",
    "    \n",
    "    while counter <= stop:\n",
    "        print(\"The {}th number in the fibonnaci sequence is: {}\".format(counter, c))\n",
    "        nxt = c + n\n",
    "        c, n = n, nxt\n",
    "        counter += 1"
   ]
  },
  {
   "cell_type": "code",
   "execution_count": null,
   "id": "e60b57cc",
   "metadata": {},
   "outputs": [],
   "source": [
    "# input values can be implicit, if in order\n",
    "fibonacci( -1, 5)\n",
    "print() # newline\n",
    "\n",
    "# input values can be explicit and out of order\n",
    "fibonacci(stop=3, start=0)\n",
    "print()\n",
    "\n",
    "# example using a call with default values\n",
    "fibonacci()"
   ]
  },
  {
   "cell_type": "code",
   "execution_count": null,
   "id": "97233232",
   "metadata": {},
   "outputs": [],
   "source": [
    "# Demonstrates a function with a return value\n",
    "def get_sqrt(x):\n",
    "    return math.sqrt(x)\n",
    "\n",
    "print(get_sqrt(4))\n",
    "\n",
    "# note: input values without a default value must be passed into the function\n",
    "try:\n",
    "    get_sqrt()\n",
    "except TypeError:\n",
    "    print(\"Error, a value wasn't passed into the function\")"
   ]
  },
  {
   "cell_type": "code",
   "execution_count": null,
   "id": "f8d75c97",
   "metadata": {},
   "outputs": [],
   "source": [
    "# Functions can have any variable as an input, including lists\n",
    "def my_func(l):\n",
    "    for elem in l:\n",
    "        print(elem)\n",
    "        \n",
    "li = [\"Sports\", \"Coding\", \"Singing\"]\n",
    "my_func(li)"
   ]
  },
  {
   "cell_type": "code",
   "execution_count": null,
   "id": "e372ad36",
   "metadata": {},
   "outputs": [],
   "source": [
    "# functions can also have a variable list of arguments by using *\n",
    "def addall(*args):\n",
    "    return sum(args)\n",
    "\n",
    "addall(5, 6, 4, 3)"
   ]
  },
  {
   "cell_type": "code",
   "execution_count": null,
   "id": "86fa2304",
   "metadata": {},
   "outputs": [],
   "source": [
    "# you may have to unpack an object, such a tuple or dictionary, when passed into a function\n",
    "# this can be done for lists by using *\n",
    "addall(*[i for i in range(10)])"
   ]
  },
  {
   "cell_type": "code",
   "execution_count": null,
   "id": "a69c252c",
   "metadata": {},
   "outputs": [],
   "source": [
    "# Python also has a lambda function feature, where one line functions can be defined\n",
    "def sum_sq(n):\n",
    "    return lambda x: pow(x, 2) + pow(n, 2)\n",
    "\n",
    "f = sum_sq(2)\n",
    "print(f(3))\n",
    "print(f(4))"
   ]
  },
  {
   "cell_type": "markdown",
   "id": "57beebd3",
   "metadata": {},
   "source": [
    "### Function Exercises"
   ]
  },
  {
   "cell_type": "code",
   "execution_count": null,
   "id": "a14b900b",
   "metadata": {},
   "outputs": [],
   "source": [
    "# Write three functions, one that calculates the sum of all numbers from 1-n\n",
    "# using a for loop, one that does the same using a while loop, and one that \n",
    "# calculates the sum using the formula (n)*(n-1)/2. Compare each function using\n",
    "# the timeit library\n",
    "def sumSeqFor(n):\n",
    "    \"\"\"Calculate the sum of the integers between 1 and n, \n",
    "    inclusive, using the for loop\"\"\"\n",
    "    pass # TODO\n",
    "\n",
    "def sumSeqWhile(n):\n",
    "    \"\"\"Calculate the sum of the integers between 1 and n, \n",
    "    inclusive, using the while loop\"\"\"\n",
    "    pass\n",
    "\n",
    "def sumSeqCalc(n):\n",
    "    \"\"\"Calculate the sum of the integers between 1 and n, using (n/2)(n+1)\"\"\"\n",
    "    pass\n",
    "\n",
    "# example of using timeit to compare execution time for your three functions\n",
    "# time1 = timeit.timeit('sumSeqFor(100)','from __main__ import sumSeqFor', number=10000)\n",
    "# print(time1, time2, time3)"
   ]
  },
  {
   "cell_type": "code",
   "execution_count": null,
   "id": "b3087080",
   "metadata": {},
   "outputs": [],
   "source": [
    "# Write an encoder that will either encode or decode a plaintext using the \n",
    "# Caesar Cipher: https://en.wikipedia.org/wiki/Caesar_cipher"
   ]
  },
  {
   "cell_type": "markdown",
   "id": "16f331ed",
   "metadata": {},
   "source": [
    "## Reading Files"
   ]
  },
  {
   "cell_type": "code",
   "execution_count": null,
   "id": "0a6c5d57",
   "metadata": {},
   "outputs": [],
   "source": [
    "# a text file can be read using with open(fileName, 'r') as dataFile\n",
    "# this opens up a sample file, Captain.txt, and counts the number of lines\n",
    "counter = 1\n",
    "with open(\"Address.txt\", 'r') as dataFile:\n",
    "    for line in dataFile:\n",
    "        print(str(counter) + \": \" + line, end = \"\")\n",
    "        counter = counter + 1"
   ]
  },
  {
   "cell_type": "code",
   "execution_count": null,
   "id": "de9d0000",
   "metadata": {},
   "outputs": [],
   "source": [
    "# Using the same file, you can create a dictionary to count the number of times\n",
    "# each word is used\n",
    "def countWords(fileName):\n",
    "    \"\"\"Take a file and create a dictionary with dictionary key pairs of words in\n",
    "    the file and the number of times they occur. Return the dictionary.\"\"\"\n",
    "    dictionary = {}\n",
    "    words = []\n",
    "    \n",
    "    with open(fileName, 'r') as dataFile:\n",
    "        for line in dataFile:\n",
    "            words += line.split()\n",
    "\n",
    "    for word in words:\n",
    "        dictionary[word] = words.count(word)\n",
    "        \n",
    "    return dictionary\n",
    "\n",
    "print(countWords('Address.txt'))"
   ]
  },
  {
   "cell_type": "code",
   "execution_count": null,
   "id": "da650245",
   "metadata": {},
   "outputs": [],
   "source": [
    "# You can also load a dictionary using a properly formatted text file\n",
    "def loadDictionary(fileName):\n",
    "    \"\"\"Generate a dictionary from a file, with translations, ie. a:ay \"\"\"\n",
    "    d = {}\n",
    "\n",
    "    with open(fileName, 'r') as dataFile:\n",
    "        for line in dataFile:\n",
    "            colonLoc = line.find(':')\n",
    "            normalSpeak = line[0:colonLoc]\n",
    "            pirateSpeak = line[(colonLoc+1):len(line)-1] #use len - 1, because len(line) returns '\\n'\n",
    "            d[normalSpeak] = pirateSpeak\n",
    "\n",
    "    return d\n",
    "\n",
    "print(loadDictionary(\"Pirate.txt\"))"
   ]
  },
  {
   "cell_type": "code",
   "execution_count": null,
   "id": "20602fa7",
   "metadata": {},
   "outputs": [],
   "source": [
    "# Example where you load a dictionary and translate a text via word substitution\n",
    "def translateToPirate(fileName):\n",
    "    \n",
    "    inStr = \"\"\n",
    "    \n",
    "    with open(fileName, 'r') as dataFile:\n",
    "        for line in dataFile:\n",
    "            inStr += line + '\\n'\n",
    "\n",
    "    pirateD = loadDictionary(\"Pirate.txt\")\n",
    "\n",
    "    words = inStr.split()\n",
    "    translatedStr = ''\n",
    "    for i in range(len(words)):\n",
    "        if(words[i] in pirateD):\n",
    "            words[i] = pirateD[words[i]]\n",
    "        translatedStr += words[i] + ' '\n",
    "\n",
    "    print(translatedStr)\n",
    "\n",
    "translateToPirate(\"Address.txt\")"
   ]
  },
  {
   "cell_type": "markdown",
   "id": "0a6f45b2",
   "metadata": {},
   "source": [
    "### Reading Files Exercises"
   ]
  },
  {
   "cell_type": "markdown",
   "id": "d09b7673",
   "metadata": {},
   "source": [
    "This tutorial may be helpful: https://docs.python.org/3/tutorial/inputoutput.html#reading-and-writing-files"
   ]
  },
  {
   "cell_type": "code",
   "execution_count": null,
   "id": "7b94f87e",
   "metadata": {},
   "outputs": [],
   "source": [
    "# Create a function that takes a given file and encrypts it using a given key\n",
    "# You can use the ceasar cipher or another symmetric key algorithm. After \n",
    "# encrypting the file, write a new, encrypted file \n",
    "def encryptFile(fileName, key):\n",
    "    \"\"\"Use a key cypher to encrypt and save a file.\"\"\"\n",
    "    pass\n",
    "\n",
    "    # The following code may help:\n",
    "    # with open(fileName, 'w') as dataFile:\n",
    "       # dataFile.write(encryptedStr)"
   ]
  },
  {
   "cell_type": "code",
   "execution_count": null,
   "id": "1ff7d520",
   "metadata": {},
   "outputs": [],
   "source": [
    "# Create a function that takes a given file and decrypts it using a given key\n",
    "# You can use the Caesar cipher or another symmetric key algorithm. After \n",
    "# decrypting the file, write a new, encrypted file \n",
    "def decryptFile(fileName, key):\n",
    "    \"\"\"Use a key cypher to decrypt and save a file.\"\"\"\n",
    "    pass"
   ]
  },
  {
   "cell_type": "markdown",
   "id": "ece6a049",
   "metadata": {},
   "source": [
    "## Classes "
   ]
  },
  {
   "cell_type": "markdown",
   "id": "739d16d2",
   "metadata": {},
   "source": [
    "Python implements objects via classes. A class is a named object that has attributes. For example, a circle has a radius, diameter, etc. Classes can also have functions, for example a Circle object could return its radius or calculate its area."
   ]
  },
  {
   "cell_type": "code",
   "execution_count": null,
   "id": "6eaf66c8",
   "metadata": {},
   "outputs": [],
   "source": [
    "# define a circle class\n",
    "class Circle:\n",
    "    \"\"\"Circle class\"\"\"\n",
    "    \n",
    "    # pi is a class variable, shared by all Circles\n",
    "    pi = math.pi\n",
    "    \n",
    "    # __init__() is used to create constructors, which initiate a class\n",
    "    def __init__(self, radius=1):\n",
    "        # note: all Circles should have a radius, but an instance of a circle will have this specific radius\n",
    "        self.radius = radius\n",
    "    \n",
    "    # __str__() is used to define a default output when printing an object\n",
    "    def __str__(self):\n",
    "        return \"I am a circle of radius: \" + str(self.radius) + '\\n' + \"My area is: \" + str(self.area())\n",
    "    \n",
    "    # example of a class function\n",
    "    def area(self):\n",
    "        return self.pi * self.radius ** 2"
   ]
  },
  {
   "cell_type": "code",
   "execution_count": null,
   "id": "602fae40",
   "metadata": {},
   "outputs": [],
   "source": [
    "c = Circle(5)\n",
    "\n",
    "print(c)"
   ]
  },
  {
   "cell_type": "markdown",
   "id": "1ba58ffc",
   "metadata": {},
   "source": [
    "Python also supports the concept of \"Inheritance\", so a base class can be used to define variables across many types of classes, whereas a derived class \"inherits\" the base class' functions, constructors, and variables."
   ]
  },
  {
   "cell_type": "code",
   "execution_count": null,
   "id": "dda83f6e",
   "metadata": {},
   "outputs": [],
   "source": [
    "class Employee:\n",
    "    \n",
    "    # class variable\n",
    "    company = \"USAF\"\n",
    "    \n",
    "    def __init__(self, fname, lname, position, employeeIDNum):\n",
    "        self.fname = fname\n",
    "        self.lname = lname\n",
    "        self.position = position\n",
    "        self.employeeID = employeeIDNum\n",
    "        \n",
    "    def __str__(self):\n",
    "        s = \"Name: {} {}\\nPosition: {} \\nEmployee ID: {}\".format(self.fname, self.lname, self.position, self.employeeID)\n",
    "        return s\n",
    "    \n",
    "    def getName(self):\n",
    "        s = self.fname + \" \" + self.lname\n",
    "        return s\n",
    "    \n",
    "    def getPosition(self):\n",
    "        return self.position\n",
    "    \n",
    "steve = Employee(\"Steve\", \"Reynolds\", \"Physician\", 1235123)\n",
    "print(steve)"
   ]
  },
  {
   "cell_type": "code",
   "execution_count": null,
   "id": "5094884b",
   "metadata": {},
   "outputs": [],
   "source": [
    "class WageEmployee(Employee):\n",
    "    def __init__(self, fname, lname, position, employeeIDNum, wage, hours):\n",
    "        self.fname = fname\n",
    "        self.lname = lname\n",
    "        self.position = position\n",
    "        self.employeeID = employeeIDNum\n",
    "        self.hourlyWage = wage\n",
    "        self.hours = hours\n",
    "        \n",
    "    def getWeeklySalary(self):\n",
    "        return self.hourlyWage * self.hours\n",
    "    \n",
    "    def getAnnualSalary(self):\n",
    "        return self.hourlyWage * self.hours * 52\n",
    "\n",
    "\n",
    "mike = WageEmployee(\"Mike\", \"Smith\", \"Janitor\", 1123422, 15.75, 40)\n",
    "print(mike)\n",
    "print(\"Mike makes ${} per week\".format(mike.getWeeklySalary()))\n",
    "print(\"Mike makes ${} per year\".format(mike.getAnnualSalary()))\n"
   ]
  },
  {
   "cell_type": "markdown",
   "id": "f8acc5f8",
   "metadata": {},
   "source": [
    "### Class Exercise"
   ]
  },
  {
   "cell_type": "code",
   "execution_count": null,
   "id": "6f242f88",
   "metadata": {},
   "outputs": [],
   "source": [
    "# Create a salaried employee class that has the attribute \"annualSalary\"\n",
    "# Create class methods to calculate the weekly and monthly salary"
   ]
  }
 ],
 "metadata": {
  "kernelspec": {
   "display_name": "Python 3 (ipykernel)",
   "language": "python",
   "name": "python3"
  },
  "language_info": {
   "codemirror_mode": {
    "name": "ipython",
    "version": 3
   },
   "file_extension": ".py",
   "mimetype": "text/x-python",
   "name": "python",
   "nbconvert_exporter": "python",
   "pygments_lexer": "ipython3",
   "version": "3.11.6"
  }
 },
 "nbformat": 4,
 "nbformat_minor": 5
}
